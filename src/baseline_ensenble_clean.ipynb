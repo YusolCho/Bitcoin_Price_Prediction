{
 "cells": [
  {
   "cell_type": "markdown",
   "metadata": {},
   "source": [
    "### Import Library"
   ]
  },
  {
   "cell_type": "code",
   "execution_count": 46,
   "metadata": {},
   "outputs": [],
   "source": [
    "# 이 중에서 안깔린 라이브러리가 있을 수 있음\n",
    "import sys\n",
    "import os\n",
    "from typing import List, Dict, Tuple\n",
    "from tqdm import tqdm\n",
    "import numpy as np\n",
    "import pandas as pd\n",
    "from sklearn.model_selection import train_test_split\n",
    "from sklearn.metrics import accuracy_score, roc_auc_score\n",
    "import lightgbm as lgb\n",
    "from plotly.subplots import make_subplots\n",
    "import plotly.graph_objects as go\n",
    "from sklearn.preprocessing import QuantileTransformer\n",
    "\n",
    "\n",
    "import seaborn as sns\n",
    "import matplotlib.pyplot as plt\n",
    "import pywt\n",
    "\n",
    "sys.path.append(os.path.abspath('../'))  # 알아서 수정해 쓸 것\n",
    "from func.utils import evaluate_model\n",
    "import func.features as ft\n",
    "\n",
    "from lightgbm import LGBMClassifier\n",
    "import xgboost as xgb\n",
    "from sklearn.ensemble import RandomForestClassifier\n",
    "from sklearn.metrics import accuracy_score, roc_auc_score\n",
    "from sklearn.ensemble import BaggingClassifier\n",
    "from sklearn.ensemble import VotingClassifier"
   ]
  },
  {
   "cell_type": "markdown",
   "metadata": {},
   "source": [
    "### Load Data"
   ]
  },
  {
   "cell_type": "code",
   "execution_count": 47,
   "metadata": {},
   "outputs": [
    {
     "name": "stderr",
     "output_type": "stream",
     "text": [
      "100%|██████████| 107/107 [00:03<00:00, 30.09it/s]\n"
     ]
    }
   ],
   "source": [
    "path = \"../../../data/\" # 본인 작업환경에 맞게 변경\n",
    "\n",
    "train = pd.read_csv(path+\"train.csv\").assign(_type=\"train\")\n",
    "test = pd.read_csv(path+\"test.csv\").assign(_type=\"test\")\n",
    "submission = pd.read_csv(path+\"test.csv\")\n",
    "df = pd.concat([train, test], axis=0)\n",
    "\n",
    "# HOURLY_ 로 시작하는 .csv 파일 이름을 file_names 에 할딩\n",
    "file_names: List[str] = [\n",
    "    f for f in os.listdir(path) if f.startswith(\"HOURLY_\") and f.endswith(\".csv\")\n",
    "]\n",
    "\n",
    "# 파일명 : 데이터프레임으로 딕셔너리 형태로 저장\n",
    "file_dict: Dict[str, pd.DataFrame] = {\n",
    "    f.replace(\".csv\", \"\"): pd.read_csv(os.path.join(path, f)) for f in file_names\n",
    "}\n",
    "\n",
    "for _file_name, _df in tqdm(file_dict.items()):\n",
    "    # 열 이름 중복 방지를 위해 {_file_name.lower()}_{col.lower()}로 변경, datetime 열을 ID로 변경\n",
    "    _rename_rule = {\n",
    "        col: f\"{_file_name.lower()}_{col.lower()}\" if col != \"datetime\" else \"ID\"\n",
    "        for col in _df.columns\n",
    "    }\n",
    "    _df = _df.rename(_rename_rule, axis=1)\n",
    "    df = df.merge(_df, on=\"ID\", how=\"left\")"
   ]
  },
  {
   "cell_type": "code",
   "execution_count": 48,
   "metadata": {},
   "outputs": [
    {
     "data": {
      "text/plain": [
       "hourly_market-data_liquidations_okex_all_symbol_short_liquidations                11552\n",
       "hourly_market-data_liquidations_ftx_btc_usd_long_liquidations                     11552\n",
       "hourly_market-data_liquidations_okex_btc_usd_short_liquidations                   11552\n",
       "hourly_market-data_liquidations_okex_btc_usd_long_liquidations_usd                11552\n",
       "hourly_market-data_liquidations_okex_btc_usd_short_liquidations_usd               11552\n",
       "                                                                                  ...  \n",
       "hourly_market-data_liquidations_all_exchange_all_symbol_long_liquidations_usd         0\n",
       "hourly_market-data_liquidations_all_exchange_all_symbol_short_liquidations_usd        0\n",
       "hourly_network-data_fees-transaction_fees_transaction_median                          0\n",
       "hourly_network-data_fees-transaction_fees_transaction_median_usd                      0\n",
       "hourly_market-data_open-interest_htx_global_btc_usdt_open_interest                    0\n",
       "Length: 255, dtype: int64"
      ]
     },
     "execution_count": 48,
     "metadata": {},
     "output_type": "execute_result"
    }
   ],
   "source": [
    "df.isnull().sum().sort_values(ascending=False)"
   ]
  },
  {
   "cell_type": "code",
   "execution_count": 49,
   "metadata": {},
   "outputs": [],
   "source": [
    "# 결측치 처리 - 칼럼 정리 \n",
    "\n",
    "# 결측치 확인 및 처리를 위해 train, test로 분리 \n",
    "train_df = df[df['_type'] == 'train']\n",
    "test_df = df[df['_type'] == 'test']\n",
    "\n",
    "# 결측치 많은 칼럼 확인\n",
    "missing_values = train_df.isnull().sum() \n",
    "columns_with_many_nulls = missing_values[missing_values > 4000].index # train에서 결측값이 4000개 이상인 열\n",
    "nan_cols = test_df.iloc[:,2:].isnull().sum()[test_df.iloc[:,2:].isnull().sum() > 2000].index # test에서 결측값이 2000개 이상인 열\n",
    "columns_with_many_nulls = set(nan_cols).union(set(columns_with_many_nulls))\n",
    "\n",
    "# 결측치 많은 칼럼 제거 후 train, test 다시 병합\n",
    "train_df = train_df.drop(columns_with_many_nulls,axis=1)\n",
    "test_df = test_df.drop(columns_with_many_nulls,axis=1)\n",
    "df= pd.concat([train_df, test_df], axis = 0)"
   ]
  },
  {
   "cell_type": "code",
   "execution_count": 50,
   "metadata": {},
   "outputs": [
    {
     "data": {
      "text/plain": [
       "hourly_market-data_open-interest_gate_io_btc_usd_open_interest                    510\n",
       "hourly_market-data_liquidations_bitfinex_all_symbol_long_liquidations             150\n",
       "hourly_market-data_liquidations_bitfinex_all_symbol_short_liquidations            150\n",
       "hourly_market-data_liquidations_bitfinex_all_symbol_long_liquidations_usd         150\n",
       "hourly_market-data_liquidations_bitfinex_all_symbol_short_liquidations_usd        150\n",
       "                                                                                 ... \n",
       "hourly_market-data_liquidations_all_exchange_all_symbol_long_liquidations_usd       0\n",
       "hourly_market-data_liquidations_all_exchange_all_symbol_short_liquidations_usd      0\n",
       "hourly_network-data_fees-transaction_fees_transaction_median                        0\n",
       "hourly_network-data_fees-transaction_fees_transaction_median_usd                    0\n",
       "hourly_market-data_open-interest_htx_global_btc_usdt_open_interest                  0\n",
       "Length: 205, dtype: int64"
      ]
     },
     "metadata": {},
     "output_type": "display_data"
    },
    {
     "data": {
      "text/plain": [
       "hourly_market-data_open-interest_gate_io_btc_usd_open_interest                    0.044148\n",
       "hourly_market-data_liquidations_bitfinex_all_symbol_long_liquidations             0.012985\n",
       "hourly_market-data_liquidations_bitfinex_all_symbol_short_liquidations            0.012985\n",
       "hourly_market-data_liquidations_bitfinex_all_symbol_long_liquidations_usd         0.012985\n",
       "hourly_market-data_liquidations_bitfinex_all_symbol_short_liquidations_usd        0.012985\n",
       "                                                                                    ...   \n",
       "hourly_market-data_liquidations_all_exchange_all_symbol_long_liquidations_usd     0.000000\n",
       "hourly_market-data_liquidations_all_exchange_all_symbol_short_liquidations_usd    0.000000\n",
       "hourly_network-data_fees-transaction_fees_transaction_median                      0.000000\n",
       "hourly_network-data_fees-transaction_fees_transaction_median_usd                  0.000000\n",
       "hourly_market-data_open-interest_htx_global_btc_usdt_open_interest                0.000000\n",
       "Length: 205, dtype: float64"
      ]
     },
     "metadata": {},
     "output_type": "display_data"
    }
   ],
   "source": [
    "# 결측치 처리 - 행 정리(1)\n",
    "\n",
    "df_new = df.drop([\"ID\", \"target\", \"_type\"], axis = 1)\n",
    "\n",
    "# 결측치 확인\n",
    "missing_data = df_new.isnull().sum()\n",
    "\n",
    "# 결측치 비율 확인\n",
    "missing_ratio = df_new.isnull().mean()\n",
    "\n",
    "\n",
    "display(missing_data.sort_values(ascending=False))\n",
    "display(missing_ratio.sort_values(ascending=False))"
   ]
  },
  {
   "cell_type": "code",
   "execution_count": 51,
   "metadata": {},
   "outputs": [
    {
     "name": "stdout",
     "output_type": "stream",
     "text": [
      "hourly_market-data_liquidations_gate_io_all_symbol_long_liquidations          0\n",
      "hourly_market-data_liquidations_gate_io_all_symbol_short_liquidations         0\n",
      "hourly_market-data_liquidations_gate_io_all_symbol_long_liquidations_usd      0\n",
      "hourly_market-data_liquidations_gate_io_all_symbol_short_liquidations_usd     0\n",
      "hourly_market-data_funding-rates_bybit_funding_rates                          0\n",
      "                                                                             ..\n",
      "hourly_market-data_liquidations_htx_global_btc_usdt_long_liquidations         0\n",
      "hourly_market-data_liquidations_htx_global_btc_usdt_short_liquidations        0\n",
      "hourly_market-data_liquidations_htx_global_btc_usdt_long_liquidations_usd     0\n",
      "hourly_market-data_liquidations_htx_global_btc_usdt_short_liquidations_usd    0\n",
      "hourly_market-data_open-interest_htx_global_btc_usdt_open_interest            0\n",
      "Length: 205, dtype: int64\n"
     ]
    }
   ],
   "source": [
    "# 1. 결측치 처리 - 행 정리(2) 앞/뒤 보간법 (forward/backward fill)\n",
    "\n",
    "# df_ffill = df_new.fillna(method='ffill')  # 앞의 값을 사용하여 결측치 채움\n",
    "# df_bfill = df_new.fillna(method='bfill')  # 뒤의 값을 사용하여 결측치 채움\n",
    "\n",
    "# 2. 결측치 처리 - 선형 보간법 (linear interpolation)\n",
    "df_interpolated = df_new.interpolate(method='linear')\n",
    "\n",
    "# 3. 결측치 처리 - 평균값으로 대체\n",
    "# df_mean_filled = df_new.fillna(eda_df.mean())\n",
    "\n",
    "df.update(df_interpolated)\n",
    "\n",
    "# 결측치 처리 후 확인\n",
    "print(df_interpolated.isnull().sum()) "
   ]
  },
  {
   "cell_type": "markdown",
   "metadata": {},
   "source": [
    "### Quantile Transform "
   ]
  },
  {
   "cell_type": "code",
   "execution_count": 52,
   "metadata": {},
   "outputs": [],
   "source": [
    "from sklearn.preprocessing import QuantileTransformer\n",
    "\n",
    "# 3번째 열부터 마지막 열까지 선택\n",
    "train_df_subset = df[df['_type'] == 'train'].iloc[:, 3:]\n",
    "test_df_subset = df[df['_type'] == 'test'].iloc[:, 3:]\n",
    "\n",
    "# 왜도 계산\n",
    "skewness = train_df_subset.skew()\n",
    "\n",
    "# 임계값 설정 (0.8 이상이면 right skewed, -0.3 이하면 left skewed로 구분)\n",
    "right_skewed = skewness[skewness > 0.8].index\n",
    "left_skewed = skewness[skewness < -0.3].index\n",
    "\n",
    "# Quantile Transform\n",
    "quantile_transformer_right = QuantileTransformer(output_distribution='normal', random_state=0)\n",
    "quantile_transformer_left = QuantileTransformer(output_distribution='normal', random_state=0)\n",
    "\n",
    "# train 데이터에 fit_transform 적용\n",
    "train_df_subset[right_skewed] = quantile_transformer_right.fit_transform(train_df_subset[right_skewed])\n",
    "train_df_subset[left_skewed] = quantile_transformer_left.fit_transform(train_df_subset[left_skewed])\n",
    "\n",
    "# test 데이터에 transform만 적용 (train에서 fit한 값을 기반으로 변환)\n",
    "test_df_subset[right_skewed] = quantile_transformer_right.transform(test_df_subset[right_skewed])\n",
    "test_df_subset[left_skewed] = quantile_transformer_left.transform(test_df_subset[left_skewed])\n",
    "\n",
    "df_subset = pd.concat([train_df_subset, test_df_subset], axis=0)\n",
    "df.iloc[:, 3:] = df_subset"
   ]
  },
  {
   "cell_type": "code",
   "execution_count": 53,
   "metadata": {},
   "outputs": [
    {
     "name": "stdout",
     "output_type": "stream",
     "text": [
      "0이 많은 컬럼: []\n",
      "0\n"
     ]
    }
   ],
   "source": [
    "def get_columns_with_many_zeros(df, threshold_ratio=0.5):\n",
    "    \"\"\"\n",
    "    주어진 임계값 비율 이상의 0을 가진 열을 반환합니다.\n",
    "    \n",
    "    :param df: 데이터프레임\n",
    "    :param threshold_ratio: 0의 비율 임계값 (기본값: 0.5, 즉 50%)\n",
    "    :return: 임계값 이상의 0을 가진 열 이름 리스트\n",
    "    \"\"\"\n",
    "    # 각 열에서 0의 개수를 계산\n",
    "    zero_counts = (df == 0).sum()\n",
    "    \n",
    "    # 전체 행 수 대비 0의 비율 계산\n",
    "    zero_ratios = zero_counts / len(df)\n",
    "    \n",
    "    # 임계값 이상의 0 비율을 가진 열 선택\n",
    "    columns_with_many_zeros = zero_ratios[zero_ratios >= threshold_ratio].index.tolist()\n",
    "    \n",
    "    return columns_with_many_zeros\n",
    "\n",
    "# 사용 예시\n",
    "# df는 여러분의 데이터프레임입니다\n",
    "columns_with_many_zeros = get_columns_with_many_zeros(df, threshold_ratio=0.2)\n",
    "print(\"0이 많은 컬럼:\", columns_with_many_zeros)\n",
    "\n",
    "# 0이 많은 컬럼의 비율 출력\n",
    "zero_ratios = (df == 0).sum() / len(df)\n",
    "for col in columns_with_many_zeros:\n",
    "    print(f\"{col}: {zero_ratios[col]:.2%}\")\n",
    "print(len(columns_with_many_zeros))"
   ]
  },
  {
   "cell_type": "markdown",
   "metadata": {},
   "source": [
    "### Feature engineering"
   ]
  },
  {
   "cell_type": "markdown",
   "metadata": {},
   "source": [
    "#### Received Baseline"
   ]
  },
  {
   "cell_type": "code",
   "execution_count": 54,
   "metadata": {},
   "outputs": [
    {
     "data": {
      "text/plain": [
       "Index(['ID', 'target', '_type',\n",
       "       'liquidations_gate_io_all_symbol_long_liquidations',\n",
       "       'liquidations_gate_io_all_symbol_short_liquidations',\n",
       "       'liquidations_gate_io_all_symbol_long_liquidations_usd',\n",
       "       'liquidations_gate_io_all_symbol_short_liquidations_usd',\n",
       "       'funding-rates_bybit_funding_rates',\n",
       "       'liquidations_htx_global_all_symbol_long_liquidations',\n",
       "       'liquidations_htx_global_all_symbol_short_liquidations',\n",
       "       ...\n",
       "       'taker-buy-sell-stats_binance_taker_buy_sell_ratio',\n",
       "       'liquidations_huobi_global_btc_usdt_long_liquidations',\n",
       "       'liquidations_huobi_global_btc_usdt_short_liquidations',\n",
       "       'liquidations_huobi_global_btc_usdt_long_liquidations_usd',\n",
       "       'liquidations_huobi_global_btc_usdt_short_liquidations_usd',\n",
       "       'liquidations_htx_global_btc_usdt_long_liquidations',\n",
       "       'liquidations_htx_global_btc_usdt_short_liquidations',\n",
       "       'liquidations_htx_global_btc_usdt_long_liquidations_usd',\n",
       "       'liquidations_htx_global_btc_usdt_short_liquidations_usd',\n",
       "       'open-interest_htx_global_btc_usdt_open_interest'],\n",
       "      dtype='object', length=208)"
      ]
     },
     "metadata": {},
     "output_type": "display_data"
    }
   ],
   "source": [
    "# 불필요한 접두사 제거 \n",
    "df.columns = df.columns.str.replace('hourly_market-data_|hourly_network-data_', '', regex=True)\n",
    "display(df.columns)"
   ]
  },
  {
   "cell_type": "code",
   "execution_count": 55,
   "metadata": {},
   "outputs": [
    {
     "data": {
      "text/plain": [
       "0        4.275086\n",
       "1       -4.951387\n",
       "2        0.000000\n",
       "3        4.961968\n",
       "4        4.847861\n",
       "           ...   \n",
       "11547    0.297571\n",
       "11548    1.059853\n",
       "11549   -0.288214\n",
       "11550   -0.145418\n",
       "11551   -0.115537\n",
       "Name: liquidation_diff, Length: 11552, dtype: float64"
      ]
     },
     "execution_count": 55,
     "metadata": {},
     "output_type": "execute_result"
    }
   ],
   "source": [
    "# 제공된 피처 엔지니어링 적용\n",
    "df = ft.make_baseline_extra(df)\n",
    "df['liquidation_diff'] # 확인"
   ]
  },
  {
   "cell_type": "code",
   "execution_count": 56,
   "metadata": {},
   "outputs": [],
   "source": [
    "def make_multiple_rolling(df, exclude_columns_list):\n",
    "    \"\"\"\n",
    "    여러 윈도우 크기(6, 12, 24, 48)로 이동평균 피처를 생성하는 함수\n",
    "    \n",
    "    Parameters:\n",
    "    - df: 입력 데이터프레임\n",
    "    - exclude_columns_list: 이동평균을 적용하지 않을 열 이름이 담긴 리스트\n",
    "    \n",
    "    Returns:\n",
    "    - 이동평균 피처가 추가된 데이터프레임\n",
    "    \"\"\"\n",
    "    rolling_features = {}\n",
    "\n",
    "    # 윈도우 크기별로 변수명 리스트 생성\n",
    "    rolling_columns_dict = {window: [] for window in [6, 12, 24, 48]}\n",
    "\n",
    "    for col in df.columns:\n",
    "        if col not in exclude_columns_list:\n",
    "            for window in [6, 12, 24, 48]:\n",
    "                new_col_name = f'{col}_rolling_mean_{window}h'\n",
    "                rolling_features[new_col_name] = df[col].rolling(window=window).mean()\n",
    "                # 윈도우 크기에 맞는 리스트에 변수명 저장\n",
    "                rolling_columns_dict[window].append(new_col_name)\n",
    "\n",
    "    # 새로운 피처를 한 번에 추가\n",
    "    rolling_features_df = pd.DataFrame(rolling_features, index=df.index)\n",
    "    df = pd.concat([df, rolling_features_df], axis=1)\n",
    "    return df"
   ]
  },
  {
   "cell_type": "code",
   "execution_count": 57,
   "metadata": {},
   "outputs": [],
   "source": [
    "# 1. 날짜 피처 생성\n",
    "df = ft.make_date(df, 'ID') \n",
    "\n",
    "# 2. Open Interest 관련 변동성, 차분 피처 생성\n",
    "imp_open_interest_columns = [\n",
    "    'open-interest_all_exchange_all_symbol_open_interest',\n",
    "    'open-interest_binance_btc_usd_open_interest',\n",
    "    'open-interest_okx_btc_usdt_open_interest',\n",
    "    'open-interest_deribit_btc_usd_open_interest',\n",
    "    'open-interest_deribit_all_symbol_open_interest',\n",
    "    'open-interest_bybit_btc_usdt_open_interest',\n",
    "    'open-interest_bitfinex_btc_usdt_open_interest',\n",
    "    'open-interest_bybit_all_symbol_open_interest'\n",
    "] \n",
    "df = ft.make_diff_change(df, imp_open_interest_columns) # 변동성, 차분 피처 \n",
    "\n",
    "# 3. 롱/숏 비율\n",
    "df = ft.make_liquidation_to_volume_ratio(df, 'liquidations_deribit_all_symbol_long_liquidations', 'liquidations_deribit_all_symbol_short_liquidations',\n",
    "    'taker-buy-sell-stats_binance_taker_buy_volume', 'taker-buy-sell-stats_binance_taker_sell_volume') # 롱/숏 비율\n",
    "\n",
    "# 4. 청산/거래량 비율\n",
    "df = ft.make_liquidation_to_volume_ratio(df,'liquidations_deribit_all_symbol_long_liquidations', 'liquidations_deribit_all_symbol_short_liquidations',\n",
    "    'taker-buy-sell-stats_binance_taker_buy_volume','taker-buy-sell-stats_binance_taker_sell_volume')\n",
    "\n",
    "# 5. # 청산된 USD 롱/숏 비율\n",
    "df = ft.make_liquidation_usd_ratio(df,'liquidations_deribit_all_symbol_long_liquidations_usd','liquidations_deribit_all_symbol_short_liquidations_usd')\n",
    "\n",
    "# 6. 펀딩 비율과 롱/숏 포지션 차이 곱\n",
    "df = ft.make_funding_rate_position_change(df, 'funding-rates_okx_funding_rates', 'liquidations_deribit_all_symbol_long_liquidations', \n",
    "    'liquidations_deribit_all_symbol_short_liquidations')\n",
    "\n",
    "# 7. 프리미엄 갭과 프리미엄 인덱스의 차이\n",
    "df = ft.make_premium_diff(df, 'coinbase-premium-index_coinbase_premium_gap', 'coinbase-premium-index_coinbase_premium_index')\n",
    "\n",
    "# 8. 해시레이트와 난이도 간의 비율\n",
    "df = ft.make_hashrate_to_difficulty(df, 'hashrate_hashrate', 'difficulty_difficulty')\n",
    "\n",
    "# 9. 공급 변화율\n",
    "df = ft.make_supply_change_rate(df, 'supply_supply_new', 'supply_supply_total')\n",
    "\n",
    "# 10. Rolling(이동평균) 피처\n",
    "df = make_multiple_rolling(df, ['ID', 'target', '_type'] + ['year', 'month', 'week', 'day_of_week', 'hour'])"
   ]
  },
  {
   "cell_type": "code",
   "execution_count": 58,
   "metadata": {},
   "outputs": [],
   "source": [
    "# # # # # # \n",
    "def make_shift_feature(\n",
    "    df: pd.DataFrame,\n",
    "    conti_cols: List[str],\n",
    "    intervals: List[int],\n",
    ") -> List[pd.Series]:\n",
    "    \"\"\"\n",
    "    연속형 변수의 shift feature 생성\n",
    "    Args:\n",
    "        df (pd.DataFrame)\n",
    "        conti_cols (List[str]): continuous colnames\n",
    "        intervals (List[int]): shifted intervals\n",
    "    Return:\n",
    "        List[pd.Series]\n",
    "    \"\"\"\n",
    "    df_shift_dict = [\n",
    "        df[conti_col].shift(interval).rename(f\"{conti_col}_{interval}\")\n",
    "        for conti_col in conti_cols\n",
    "        for interval in intervals\n",
    "    ]\n",
    "    return df_shift_dict"
   ]
  },
  {
   "cell_type": "code",
   "execution_count": 59,
   "metadata": {},
   "outputs": [],
   "source": [
    "# # # # # # # \n",
    "# 카테고리, 날짜, 롤링, 수치형 피처 분류\n",
    "category_cols: List[str] = [\"liquidation_diffg\", \"liquidation_usd_diffg\", \"volume_diffg\"]\n",
    "date_columns = ['ID', 'year', 'month', 'week', 'day_of_week', 'hour']\n",
    "rolling_columns = [col for col in df.columns if 'rolling' in col]  # 'rolling'이 포함된 피처\n",
    "conti_cols: List[str] = [col for col in df.columns if col not in category_cols + date_columns + rolling_columns + ['target', '_type']]\n",
    "\n",
    "# 모든 수치형 피처에 대해 지수 이동 평균(EMA) 및 웨이브렛 변환(WT) 계산 후 한 번에 추가\n",
    "ema_features = {}\n",
    "wt_features = {}\n",
    "\n",
    "for c in conti_cols:\n",
    "    ema_features[c + \"_moving_avg_7\"] = ft.make_EMA(df, c, 7)  # EMA 계산\n",
    "    wt_features[c + \"WT\"] = ft.make_WT(df, c)  # WT 계산\n",
    "\n",
    "# 딕셔너리로 생성된 피처들을 DataFrame으로 변환한 후 한 번에 추가\n",
    "ema_df = pd.DataFrame(ema_features)\n",
    "wt_df = pd.DataFrame(wt_features)\n",
    "df = pd.concat([df, ema_df, wt_df], axis=1)\n",
    "\n",
    "# 최대 24시간의 shift 피처를 계산\n",
    "shift_list = make_shift_feature(\n",
    "    df=df, conti_cols=conti_cols, intervals=[_ for _ in range(1, 24)]\n",
    ")"
   ]
  },
  {
   "cell_type": "markdown",
   "metadata": {},
   "source": [
    "# 모든 수치형 컬럼에 대한 지수이동평균 계산\n",
    "ema_dfs = []\n",
    "for c in conti_cols:\n",
    "    ema_df = ft.make_EMA(df, [c], 7)\n",
    "    ema_df.columns = [f\"{c}_moving_avg_7\"]\n",
    "    ema_dfs.append(ema_df)\n",
    "\n",
    "\n",
    "\n",
    "\n",
    "# 원본 데이터프레임과 새로 계산된 EMA 데이터프레임들을 병합\n",
    "df = pd.concat([df] + ema_dfs, axis=1)\n",
    "    \n",
    "\n",
    "# 모든 수치형 컬럼에 대한 Wavelet transform을 계산\n",
    "wt_dfs = []\n",
    "for c in conti_cols:\n",
    "    wt_series = pd.Series(ft.make_WT(df, c), name=f\"{c}_WT\", index=df.index)\n",
    "    wt_dfs.append(wt_series)\n",
    "\n",
    "# 원본 데이터프레임과 새로 계산된 WT 시리즈들을 병합\n",
    "df = pd.concat([df] + wt_dfs, axis=1)\n",
    "\n",
    "# 최대 24시간의 shift 피쳐를 계산\n",
    "shift_list = make_shift(\n",
    "    df=df, conti_cols=conti_cols, intervals=[_ for _ in range(1, 24)]\n",
    ")"
   ]
  },
  {
   "cell_type": "code",
   "execution_count": 60,
   "metadata": {},
   "outputs": [],
   "source": [
    "df = pd.concat([df, pd.concat(shift_list, axis=1)], axis=1)\n",
    "_target = df[\"target\"]\n",
    "df = df.ffill().fillna(-999).assign(target = _target)\n",
    "# df = df.loc[:, ~df.columns.duplicated()]\n",
    "# df = df.drop(columns=new_features)\n",
    "\n",
    "train_df = df.loc[df[\"_type\"]==\"train\"].drop(columns=[\"_type\"])\n",
    "test_df = df.loc[df[\"_type\"]==\"test\"].drop(columns=[\"_type\"])"
   ]
  },
  {
   "cell_type": "code",
   "execution_count": 66,
   "metadata": {},
   "outputs": [],
   "source": [
    "df.to_csv(\"/Users/yusolcho/Desktop/coin_df.csv\")"
   ]
  },
  {
   "cell_type": "markdown",
   "metadata": {},
   "source": [
    "### Model Training"
   ]
  },
  {
   "cell_type": "code",
   "execution_count": 61,
   "metadata": {},
   "outputs": [],
   "source": [
    "# 칼럼 그룹 정리  (추후 실험에서 특정 피처들 포함/미포함을 쉽게 관리하기 위함. 교집합 없음)\n",
    "\n",
    "# 기존 칼럼\n",
    "addresses_columns = [col for col in df.columns if 'addresses' in col] # addresses(주소) 관련 피처. 변수명에 'addresses'포함\n",
    "block_columns = [col for col in df.columns if 'block-' in col] # block(블록) 관련 피처. 변수명에 'block-' 포함 \n",
    "blockreward_columns = [col for col in df.columns if 'blockreward' in col] # blockreward 관련 피처\n",
    "difficulty_columns = [col for col in df.columns if 'difficulty' in col] # difficulty 관련 피처\n",
    "fees_columns = [col for col in df.columns if 'fees' in col] # fees 관련 피처\n",
    "hashrate_columns = [col for col in df.columns if 'hashrate' in col] # hashrate 관련 피처\n",
    "supply_columns = [col for col in df.columns if 'supply_supply' in col] # supply 관련 피처\n",
    "tokens_columns = [col for col in df.columns if 'tokens' in col] # tokens 관련 피처\n",
    "transactions_columns = [col for col in df.columns if 'transactions' in col] # transactions 관련 피처\n",
    "utxo_columns = [col for col in df.columns if 'utxo' in col] # utxo 관련 피처\n",
    "velocity_columns = [col for col in df.columns if 'velocity' in col] # velocity 관련 피처\n",
    "premium_columns = [col for col in df.columns if 'premium' in col] # premium 관련 피처\n",
    "funding_rates_columns = [col for col in df.columns if 'funding_rates' in col] # funding rates 관련 피처\n",
    "long_liquidation_columns = [col for col in df.columns if 'long_liquidation' in col] # 롱 청산 관련 피처\n",
    "short_liquidation_columns = [col for col in df.columns if 'short_liquidation' in col] # 숏 청산 관련 피처\n",
    "open_interest_columns = [col for col in df.columns if 'open_interest' in col] # open-interest 관련 피처\n",
    "taker_columns = [col for col in df.columns if 'taker' in col] # taker 관련 피처\n",
    "\n",
    "# 피처 엔지니어링\n",
    "baseline_extra_columns = ['liquidation_diff', 'liquidation_usd_diff', 'volume_diff', 'liquidation_diffg', 'liquidation_usd_diffg', 'volume_diffg', 'buy_sell_volume_ratio'] # 게시글에 있는 베이스라인 코드의 피처\n",
    "date_columns = ['ID', 'year', 'month', 'week', 'day_of_week', 'hour']\n",
    "open_interest_diff_columns = [col for col in df.columns if '_diff' in col]\n",
    "open_interest_pct_columns =[col for col in df.columns if '_pct_change' in col]\n",
    "domain_related_columns = ['long_short_ratio', 'liquidation_to_volume_ratio', 'liquidation_usd_ratio', 'funding_rate_position_change', 'premium_diff', 'hashrate_to_difficulty', 'supply_change_rate']\n",
    "rolling_columns = [col for col in df.columns if 'rolling' in col] # rolling 관련 피처\n",
    "wt_columns = [col for col in df.columns if 'WT' in col] # WT 관련 피처\n",
    "ema_columns = [col for col in df.columns if col.endswith('_moving_avg_7')] # WT 관련 피처\n",
    "shift_7_columns = [series.name for series in shift_list] # shift list 피처 \n",
    "\n",
    "# category, continuous 열을 따로 할당해둠\n",
    "category_cols: List[str] = [\"liquidation_diffg\", \"liquidation_usd_diffg\", \"volume_diffg\"]\n",
    "conti_cols: List[str] = [col for col in df.columns if col not in category_cols + date_columns + rolling_columns + ['target','_type']] # category_cols, date_columns, rolling_columns 에 있는 것들을 제외"
   ]
  },
  {
   "cell_type": "markdown",
   "metadata": {},
   "source": [
    "#### lightGBM 학습"
   ]
  },
  {
   "cell_type": "code",
   "execution_count": 64,
   "metadata": {},
   "outputs": [
    {
     "name": "stderr",
     "output_type": "stream",
     "text": [
      "/Users/yusolcho/opt/anaconda3/envs/datawrg/lib/python3.8/site-packages/lightgbm/engine.py:204: UserWarning: Found `n_estimators` in params. Will use it instead of argument\n",
      "  _log_warning(f\"Found `{alias}` in params. Will use it instead of argument\")\n"
     ]
    },
    {
     "name": "stdout",
     "output_type": "stream",
     "text": [
      "acc: 0.432648401826484, auroc: 0.6564601178697145\n",
      "\n",
      "lgb_model 모델 평가\n",
      "\n",
      "분류 보고서:\n",
      "              precision    recall  f1-score   support\n",
      "\n",
      "     Class 0       0.17      0.01      0.02       149\n",
      "     Class 1       0.42      0.54      0.47       678\n",
      "     Class 2       0.45      0.52      0.48       745\n",
      "     Class 3       0.25      0.02      0.03       180\n",
      "\n",
      "    accuracy                           0.43      1752\n",
      "   macro avg       0.32      0.27      0.25      1752\n",
      "weighted avg       0.39      0.43      0.39      1752\n",
      "\n",
      "혼동 행렬:\n"
     ]
    },
    {
     "data": {
      "image/png": "[encoded data removed]",
      "text/plain": [
       "<Figure size 640x480 with 2 Axes>"
      ]
     },
     "metadata": {},
     "output_type": "display_data"
    }
   ],
   "source": [
    "# train_test_split 으로 valid set, train set 분리\n",
    "x_train, x_valid, y_train, y_valid = train_test_split(\n",
    "    train_df.drop([\"target\", \"ID\"], axis = 1), \n",
    "    train_df[\"target\"].astype(int), \n",
    "    test_size=0.2,\n",
    "    random_state=42,\n",
    ")\n",
    "\n",
    "# lgb dataset\n",
    "train_data = lgb.Dataset(x_train, label=y_train)\n",
    "valid_data = lgb.Dataset(x_valid, label=y_valid, reference=train_data)\n",
    "\n",
    "# lgb params (베이스라인 코드의 기본 파라미터임)\n",
    "params = {\n",
    "    \"boosting_type\": \"gbdt\",\n",
    "    \"objective\": \"multiclass\",\n",
    "    \"metric\": \"multi_logloss\",\n",
    "    \"num_class\": 4,\n",
    "    \"num_leaves\": 50,\n",
    "    \"learning_rate\": 0.05,\n",
    "    \"n_estimators\": 30,\n",
    "    \"random_state\": 42,\n",
    "    \"verbose\": 0,\n",
    "}\n",
    "\n",
    "# lgb train\n",
    "lgb_model = lgb.train(\n",
    "    params=params,\n",
    "    train_set=train_data,\n",
    "    valid_sets=valid_data,\n",
    ")\n",
    "\n",
    "# lgb predict\n",
    "y_valid_pred = lgb_model.predict(x_valid)\n",
    "y_valid_pred_class = np.argmax(y_valid_pred, axis = 1)\n",
    "\n",
    "# score check\n",
    "accuracy = accuracy_score(y_valid, y_valid_pred_class)\n",
    "auroc = roc_auc_score(y_valid, y_valid_pred, multi_class=\"ovr\")\n",
    "\n",
    "print(f\"acc: {accuracy}, auroc: {auroc}\")\n",
    "\n",
    "# 추가된 confusion matrix 구현 부분\n",
    "evaluate_model(y_valid, y_valid_pred_class, \"lgb_model\")"
   ]
  },
  {
   "cell_type": "markdown",
   "metadata": {},
   "source": [
    "### LGBM based Bagging 학습"
   ]
  },
  {
   "cell_type": "code",
   "execution_count": 65,
   "metadata": {},
   "outputs": [
    {
     "name": "stderr",
     "output_type": "stream",
     "text": [
      "/Users/yusolcho/opt/anaconda3/envs/datawrg/lib/python3.8/site-packages/sklearn/ensemble/_base.py:156: FutureWarning: `base_estimator` was renamed to `estimator` in version 1.2 and will be removed in 1.4.\n",
      "  warnings.warn(\n"
     ]
    },
    {
     "ename": "KeyboardInterrupt",
     "evalue": "",
     "output_type": "error",
     "traceback": [
      "\u001b[0;31m---------------------------------------------------------------------------\u001b[0m",
      "\u001b[0;31mKeyboardInterrupt\u001b[0m                         Traceback (most recent call last)",
      "Cell \u001b[0;32mIn[65], line 12\u001b[0m\n\u001b[1;32m      5\u001b[0m bagging_model \u001b[39m=\u001b[39m BaggingClassifier(\n\u001b[1;32m      6\u001b[0m     base_estimator\u001b[39m=\u001b[39mLGBMClassifier(\u001b[39m*\u001b[39m\u001b[39m*\u001b[39mparams),\n\u001b[1;32m      7\u001b[0m     n_estimators\u001b[39m=\u001b[39m\u001b[39m10\u001b[39m,  \u001b[39m# Bagging에서 사용할 모델 수\u001b[39;00m\n\u001b[1;32m      8\u001b[0m     random_state\u001b[39m=\u001b[39m\u001b[39m42\u001b[39m\n\u001b[1;32m      9\u001b[0m )\n\u001b[1;32m     11\u001b[0m \u001b[39m# 학습\u001b[39;00m\n\u001b[0;32m---> 12\u001b[0m bagging_model\u001b[39m.\u001b[39;49mfit(x_train, y_train)\n\u001b[1;32m     14\u001b[0m \u001b[39m# 예측\u001b[39;00m\n\u001b[1;32m     15\u001b[0m y_valid_pred \u001b[39m=\u001b[39m bagging_model\u001b[39m.\u001b[39mpredict(x_valid)\n",
      "File \u001b[0;32m~/opt/anaconda3/envs/datawrg/lib/python3.8/site-packages/sklearn/base.py:1152\u001b[0m, in \u001b[0;36m_fit_context.<locals>.decorator.<locals>.wrapper\u001b[0;34m(estimator, *args, **kwargs)\u001b[0m\n\u001b[1;32m   1145\u001b[0m     estimator\u001b[39m.\u001b[39m_validate_params()\n\u001b[1;32m   1147\u001b[0m \u001b[39mwith\u001b[39;00m config_context(\n\u001b[1;32m   1148\u001b[0m     skip_parameter_validation\u001b[39m=\u001b[39m(\n\u001b[1;32m   1149\u001b[0m         prefer_skip_nested_validation \u001b[39mor\u001b[39;00m global_skip_validation\n\u001b[1;32m   1150\u001b[0m     )\n\u001b[1;32m   1151\u001b[0m ):\n\u001b[0;32m-> 1152\u001b[0m     \u001b[39mreturn\u001b[39;00m fit_method(estimator, \u001b[39m*\u001b[39;49margs, \u001b[39m*\u001b[39;49m\u001b[39m*\u001b[39;49mkwargs)\n",
      "File \u001b[0;32m~/opt/anaconda3/envs/datawrg/lib/python3.8/site-packages/sklearn/ensemble/_bagging.py:338\u001b[0m, in \u001b[0;36mBaseBagging.fit\u001b[0;34m(self, X, y, sample_weight)\u001b[0m\n\u001b[1;32m    329\u001b[0m \u001b[39m# Convert data (X is required to be 2d and indexable)\u001b[39;00m\n\u001b[1;32m    330\u001b[0m X, y \u001b[39m=\u001b[39m \u001b[39mself\u001b[39m\u001b[39m.\u001b[39m_validate_data(\n\u001b[1;32m    331\u001b[0m     X,\n\u001b[1;32m    332\u001b[0m     y,\n\u001b[0;32m   (...)\u001b[0m\n\u001b[1;32m    336\u001b[0m     multi_output\u001b[39m=\u001b[39m\u001b[39mTrue\u001b[39;00m,\n\u001b[1;32m    337\u001b[0m )\n\u001b[0;32m--> 338\u001b[0m \u001b[39mreturn\u001b[39;00m \u001b[39mself\u001b[39;49m\u001b[39m.\u001b[39;49m_fit(X, y, \u001b[39mself\u001b[39;49m\u001b[39m.\u001b[39;49mmax_samples, sample_weight\u001b[39m=\u001b[39;49msample_weight)\n",
      "File \u001b[0;32m~/opt/anaconda3/envs/datawrg/lib/python3.8/site-packages/sklearn/ensemble/_bagging.py:473\u001b[0m, in \u001b[0;36mBaseBagging._fit\u001b[0;34m(self, X, y, max_samples, max_depth, sample_weight, check_input)\u001b[0m\n\u001b[1;32m    470\u001b[0m seeds \u001b[39m=\u001b[39m random_state\u001b[39m.\u001b[39mrandint(MAX_INT, size\u001b[39m=\u001b[39mn_more_estimators)\n\u001b[1;32m    471\u001b[0m \u001b[39mself\u001b[39m\u001b[39m.\u001b[39m_seeds \u001b[39m=\u001b[39m seeds\n\u001b[0;32m--> 473\u001b[0m all_results \u001b[39m=\u001b[39m Parallel(\n\u001b[1;32m    474\u001b[0m     n_jobs\u001b[39m=\u001b[39;49mn_jobs, verbose\u001b[39m=\u001b[39;49m\u001b[39mself\u001b[39;49m\u001b[39m.\u001b[39;49mverbose, \u001b[39m*\u001b[39;49m\u001b[39m*\u001b[39;49m\u001b[39mself\u001b[39;49m\u001b[39m.\u001b[39;49m_parallel_args()\n\u001b[1;32m    475\u001b[0m )(\n\u001b[1;32m    476\u001b[0m     delayed(_parallel_build_estimators)(\n\u001b[1;32m    477\u001b[0m         n_estimators[i],\n\u001b[1;32m    478\u001b[0m         \u001b[39mself\u001b[39;49m,\n\u001b[1;32m    479\u001b[0m         X,\n\u001b[1;32m    480\u001b[0m         y,\n\u001b[1;32m    481\u001b[0m         sample_weight,\n\u001b[1;32m    482\u001b[0m         seeds[starts[i] : starts[i \u001b[39m+\u001b[39;49m \u001b[39m1\u001b[39;49m]],\n\u001b[1;32m    483\u001b[0m         total_n_estimators,\n\u001b[1;32m    484\u001b[0m         verbose\u001b[39m=\u001b[39;49m\u001b[39mself\u001b[39;49m\u001b[39m.\u001b[39;49mverbose,\n\u001b[1;32m    485\u001b[0m         check_input\u001b[39m=\u001b[39;49mcheck_input,\n\u001b[1;32m    486\u001b[0m     )\n\u001b[1;32m    487\u001b[0m     \u001b[39mfor\u001b[39;49;00m i \u001b[39min\u001b[39;49;00m \u001b[39mrange\u001b[39;49m(n_jobs)\n\u001b[1;32m    488\u001b[0m )\n\u001b[1;32m    490\u001b[0m \u001b[39m# Reduce\u001b[39;00m\n\u001b[1;32m    491\u001b[0m \u001b[39mself\u001b[39m\u001b[39m.\u001b[39mestimators_ \u001b[39m+\u001b[39m\u001b[39m=\u001b[39m \u001b[39mlist\u001b[39m(\n\u001b[1;32m    492\u001b[0m     itertools\u001b[39m.\u001b[39mchain\u001b[39m.\u001b[39mfrom_iterable(t[\u001b[39m0\u001b[39m] \u001b[39mfor\u001b[39;00m t \u001b[39min\u001b[39;00m all_results)\n\u001b[1;32m    493\u001b[0m )\n",
      "File \u001b[0;32m~/opt/anaconda3/envs/datawrg/lib/python3.8/site-packages/sklearn/utils/parallel.py:65\u001b[0m, in \u001b[0;36mParallel.__call__\u001b[0;34m(self, iterable)\u001b[0m\n\u001b[1;32m     60\u001b[0m config \u001b[39m=\u001b[39m get_config()\n\u001b[1;32m     61\u001b[0m iterable_with_config \u001b[39m=\u001b[39m (\n\u001b[1;32m     62\u001b[0m     (_with_config(delayed_func, config), args, kwargs)\n\u001b[1;32m     63\u001b[0m     \u001b[39mfor\u001b[39;00m delayed_func, args, kwargs \u001b[39min\u001b[39;00m iterable\n\u001b[1;32m     64\u001b[0m )\n\u001b[0;32m---> 65\u001b[0m \u001b[39mreturn\u001b[39;00m \u001b[39msuper\u001b[39;49m()\u001b[39m.\u001b[39;49m\u001b[39m__call__\u001b[39;49m(iterable_with_config)\n",
      "File \u001b[0;32m~/opt/anaconda3/envs/datawrg/lib/python3.8/site-packages/joblib/parallel.py:1918\u001b[0m, in \u001b[0;36mParallel.__call__\u001b[0;34m(self, iterable)\u001b[0m\n\u001b[1;32m   1916\u001b[0m     output \u001b[39m=\u001b[39m \u001b[39mself\u001b[39m\u001b[39m.\u001b[39m_get_sequential_output(iterable)\n\u001b[1;32m   1917\u001b[0m     \u001b[39mnext\u001b[39m(output)\n\u001b[0;32m-> 1918\u001b[0m     \u001b[39mreturn\u001b[39;00m output \u001b[39mif\u001b[39;00m \u001b[39mself\u001b[39m\u001b[39m.\u001b[39mreturn_generator \u001b[39melse\u001b[39;00m \u001b[39mlist\u001b[39;49m(output)\n\u001b[1;32m   1920\u001b[0m \u001b[39m# Let's create an ID that uniquely identifies the current call. If the\u001b[39;00m\n\u001b[1;32m   1921\u001b[0m \u001b[39m# call is interrupted early and that the same instance is immediately\u001b[39;00m\n\u001b[1;32m   1922\u001b[0m \u001b[39m# re-used, this id will be used to prevent workers that were\u001b[39;00m\n\u001b[1;32m   1923\u001b[0m \u001b[39m# concurrently finalizing a task from the previous call to run the\u001b[39;00m\n\u001b[1;32m   1924\u001b[0m \u001b[39m# callback.\u001b[39;00m\n\u001b[1;32m   1925\u001b[0m \u001b[39mwith\u001b[39;00m \u001b[39mself\u001b[39m\u001b[39m.\u001b[39m_lock:\n",
      "File \u001b[0;32m~/opt/anaconda3/envs/datawrg/lib/python3.8/site-packages/joblib/parallel.py:1847\u001b[0m, in \u001b[0;36mParallel._get_sequential_output\u001b[0;34m(self, iterable)\u001b[0m\n\u001b[1;32m   1845\u001b[0m \u001b[39mself\u001b[39m\u001b[39m.\u001b[39mn_dispatched_batches \u001b[39m+\u001b[39m\u001b[39m=\u001b[39m \u001b[39m1\u001b[39m\n\u001b[1;32m   1846\u001b[0m \u001b[39mself\u001b[39m\u001b[39m.\u001b[39mn_dispatched_tasks \u001b[39m+\u001b[39m\u001b[39m=\u001b[39m \u001b[39m1\u001b[39m\n\u001b[0;32m-> 1847\u001b[0m res \u001b[39m=\u001b[39m func(\u001b[39m*\u001b[39;49margs, \u001b[39m*\u001b[39;49m\u001b[39m*\u001b[39;49mkwargs)\n\u001b[1;32m   1848\u001b[0m \u001b[39mself\u001b[39m\u001b[39m.\u001b[39mn_completed_tasks \u001b[39m+\u001b[39m\u001b[39m=\u001b[39m \u001b[39m1\u001b[39m\n\u001b[1;32m   1849\u001b[0m \u001b[39mself\u001b[39m\u001b[39m.\u001b[39mprint_progress()\n",
      "File \u001b[0;32m~/opt/anaconda3/envs/datawrg/lib/python3.8/site-packages/sklearn/utils/parallel.py:127\u001b[0m, in \u001b[0;36m_FuncWrapper.__call__\u001b[0;34m(self, *args, **kwargs)\u001b[0m\n\u001b[1;32m    125\u001b[0m     config \u001b[39m=\u001b[39m {}\n\u001b[1;32m    126\u001b[0m \u001b[39mwith\u001b[39;00m config_context(\u001b[39m*\u001b[39m\u001b[39m*\u001b[39mconfig):\n\u001b[0;32m--> 127\u001b[0m     \u001b[39mreturn\u001b[39;00m \u001b[39mself\u001b[39;49m\u001b[39m.\u001b[39;49mfunction(\u001b[39m*\u001b[39;49margs, \u001b[39m*\u001b[39;49m\u001b[39m*\u001b[39;49mkwargs)\n",
      "File \u001b[0;32m~/opt/anaconda3/envs/datawrg/lib/python3.8/site-packages/sklearn/ensemble/_bagging.py:141\u001b[0m, in \u001b[0;36m_parallel_build_estimators\u001b[0;34m(n_estimators, ensemble, X, y, sample_weight, seeds, total_n_estimators, verbose, check_input)\u001b[0m\n\u001b[1;32m    138\u001b[0m         curr_sample_weight[not_indices_mask] \u001b[39m=\u001b[39m \u001b[39m0\u001b[39m\n\u001b[1;32m    140\u001b[0m     X_ \u001b[39m=\u001b[39m X[:, features] \u001b[39mif\u001b[39;00m requires_feature_indexing \u001b[39melse\u001b[39;00m X\n\u001b[0;32m--> 141\u001b[0m     estimator_fit(X_, y, sample_weight\u001b[39m=\u001b[39;49mcurr_sample_weight)\n\u001b[1;32m    142\u001b[0m \u001b[39melse\u001b[39;00m:\n\u001b[1;32m    143\u001b[0m     X_ \u001b[39m=\u001b[39m X[indices][:, features] \u001b[39mif\u001b[39;00m requires_feature_indexing \u001b[39melse\u001b[39;00m X[indices]\n",
      "File \u001b[0;32m~/opt/anaconda3/envs/datawrg/lib/python3.8/site-packages/lightgbm/sklearn.py:1284\u001b[0m, in \u001b[0;36mLGBMClassifier.fit\u001b[0;34m(self, X, y, sample_weight, init_score, eval_set, eval_names, eval_sample_weight, eval_class_weight, eval_init_score, eval_metric, feature_name, categorical_feature, callbacks, init_model)\u001b[0m\n\u001b[1;32m   1281\u001b[0m         \u001b[39melse\u001b[39;00m:\n\u001b[1;32m   1282\u001b[0m             valid_sets\u001b[39m.\u001b[39mappend((valid_x, \u001b[39mself\u001b[39m\u001b[39m.\u001b[39m_le\u001b[39m.\u001b[39mtransform(valid_y)))\n\u001b[0;32m-> 1284\u001b[0m \u001b[39msuper\u001b[39;49m()\u001b[39m.\u001b[39;49mfit(\n\u001b[1;32m   1285\u001b[0m     X,\n\u001b[1;32m   1286\u001b[0m     _y,\n\u001b[1;32m   1287\u001b[0m     sample_weight\u001b[39m=\u001b[39;49msample_weight,\n\u001b[1;32m   1288\u001b[0m     init_score\u001b[39m=\u001b[39;49minit_score,\n\u001b[1;32m   1289\u001b[0m     eval_set\u001b[39m=\u001b[39;49mvalid_sets,\n\u001b[1;32m   1290\u001b[0m     eval_names\u001b[39m=\u001b[39;49meval_names,\n\u001b[1;32m   1291\u001b[0m     eval_sample_weight\u001b[39m=\u001b[39;49meval_sample_weight,\n\u001b[1;32m   1292\u001b[0m     eval_class_weight\u001b[39m=\u001b[39;49meval_class_weight,\n\u001b[1;32m   1293\u001b[0m     eval_init_score\u001b[39m=\u001b[39;49meval_init_score,\n\u001b[1;32m   1294\u001b[0m     eval_metric\u001b[39m=\u001b[39;49meval_metric,\n\u001b[1;32m   1295\u001b[0m     feature_name\u001b[39m=\u001b[39;49mfeature_name,\n\u001b[1;32m   1296\u001b[0m     categorical_feature\u001b[39m=\u001b[39;49mcategorical_feature,\n\u001b[1;32m   1297\u001b[0m     callbacks\u001b[39m=\u001b[39;49mcallbacks,\n\u001b[1;32m   1298\u001b[0m     init_model\u001b[39m=\u001b[39;49minit_model,\n\u001b[1;32m   1299\u001b[0m )\n\u001b[1;32m   1300\u001b[0m \u001b[39mreturn\u001b[39;00m \u001b[39mself\u001b[39m\n",
      "File \u001b[0;32m~/opt/anaconda3/envs/datawrg/lib/python3.8/site-packages/lightgbm/sklearn.py:955\u001b[0m, in \u001b[0;36mLGBMModel.fit\u001b[0;34m(self, X, y, sample_weight, init_score, group, eval_set, eval_names, eval_sample_weight, eval_class_weight, eval_init_score, eval_group, eval_metric, feature_name, categorical_feature, callbacks, init_model)\u001b[0m\n\u001b[1;32m    952\u001b[0m evals_result: _EvalResultDict \u001b[39m=\u001b[39m {}\n\u001b[1;32m    953\u001b[0m callbacks\u001b[39m.\u001b[39mappend(record_evaluation(evals_result))\n\u001b[0;32m--> 955\u001b[0m \u001b[39mself\u001b[39m\u001b[39m.\u001b[39m_Booster \u001b[39m=\u001b[39m train(\n\u001b[1;32m    956\u001b[0m     params\u001b[39m=\u001b[39;49mparams,\n\u001b[1;32m    957\u001b[0m     train_set\u001b[39m=\u001b[39;49mtrain_set,\n\u001b[1;32m    958\u001b[0m     num_boost_round\u001b[39m=\u001b[39;49m\u001b[39mself\u001b[39;49m\u001b[39m.\u001b[39;49mn_estimators,\n\u001b[1;32m    959\u001b[0m     valid_sets\u001b[39m=\u001b[39;49mvalid_sets,\n\u001b[1;32m    960\u001b[0m     valid_names\u001b[39m=\u001b[39;49meval_names,\n\u001b[1;32m    961\u001b[0m     feval\u001b[39m=\u001b[39;49meval_metrics_callable,  \u001b[39m# type: ignore[arg-type]\u001b[39;49;00m\n\u001b[1;32m    962\u001b[0m     init_model\u001b[39m=\u001b[39;49minit_model,\n\u001b[1;32m    963\u001b[0m     callbacks\u001b[39m=\u001b[39;49mcallbacks,\n\u001b[1;32m    964\u001b[0m )\n\u001b[1;32m    966\u001b[0m \u001b[39mself\u001b[39m\u001b[39m.\u001b[39m_evals_result \u001b[39m=\u001b[39m evals_result\n\u001b[1;32m    967\u001b[0m \u001b[39mself\u001b[39m\u001b[39m.\u001b[39m_best_iteration \u001b[39m=\u001b[39m \u001b[39mself\u001b[39m\u001b[39m.\u001b[39m_Booster\u001b[39m.\u001b[39mbest_iteration\n",
      "File \u001b[0;32m~/opt/anaconda3/envs/datawrg/lib/python3.8/site-packages/lightgbm/engine.py:307\u001b[0m, in \u001b[0;36mtrain\u001b[0;34m(params, train_set, num_boost_round, valid_sets, valid_names, feval, init_model, feature_name, categorical_feature, keep_training_booster, callbacks)\u001b[0m\n\u001b[1;32m    295\u001b[0m \u001b[39mfor\u001b[39;00m cb \u001b[39min\u001b[39;00m callbacks_before_iter:\n\u001b[1;32m    296\u001b[0m     cb(\n\u001b[1;32m    297\u001b[0m         callback\u001b[39m.\u001b[39mCallbackEnv(\n\u001b[1;32m    298\u001b[0m             model\u001b[39m=\u001b[39mbooster,\n\u001b[0;32m   (...)\u001b[0m\n\u001b[1;32m    304\u001b[0m         )\n\u001b[1;32m    305\u001b[0m     )\n\u001b[0;32m--> 307\u001b[0m booster\u001b[39m.\u001b[39;49mupdate(fobj\u001b[39m=\u001b[39;49mfobj)\n\u001b[1;32m    309\u001b[0m evaluation_result_list: List[_LGBM_BoosterEvalMethodResultType] \u001b[39m=\u001b[39m []\n\u001b[1;32m    310\u001b[0m \u001b[39m# check evaluation result.\u001b[39;00m\n",
      "File \u001b[0;32m~/opt/anaconda3/envs/datawrg/lib/python3.8/site-packages/lightgbm/basic.py:4136\u001b[0m, in \u001b[0;36mBooster.update\u001b[0;34m(self, train_set, fobj)\u001b[0m\n\u001b[1;32m   4133\u001b[0m \u001b[39mif\u001b[39;00m \u001b[39mself\u001b[39m\u001b[39m.\u001b[39m__set_objective_to_none:\n\u001b[1;32m   4134\u001b[0m     \u001b[39mraise\u001b[39;00m LightGBMError(\u001b[39m\"\u001b[39m\u001b[39mCannot update due to null objective function.\u001b[39m\u001b[39m\"\u001b[39m)\n\u001b[1;32m   4135\u001b[0m _safe_call(\n\u001b[0;32m-> 4136\u001b[0m     _LIB\u001b[39m.\u001b[39;49mLGBM_BoosterUpdateOneIter(\n\u001b[1;32m   4137\u001b[0m         \u001b[39mself\u001b[39;49m\u001b[39m.\u001b[39;49m_handle,\n\u001b[1;32m   4138\u001b[0m         ctypes\u001b[39m.\u001b[39;49mbyref(is_finished),\n\u001b[1;32m   4139\u001b[0m     )\n\u001b[1;32m   4140\u001b[0m )\n\u001b[1;32m   4141\u001b[0m \u001b[39mself\u001b[39m\u001b[39m.\u001b[39m__is_predicted_cur_iter \u001b[39m=\u001b[39m [\u001b[39mFalse\u001b[39;00m \u001b[39mfor\u001b[39;00m _ \u001b[39min\u001b[39;00m \u001b[39mrange\u001b[39m(\u001b[39mself\u001b[39m\u001b[39m.\u001b[39m__num_dataset)]\n\u001b[1;32m   4142\u001b[0m \u001b[39mreturn\u001b[39;00m is_finished\u001b[39m.\u001b[39mvalue \u001b[39m==\u001b[39m \u001b[39m1\u001b[39m\n",
      "\u001b[0;31mKeyboardInterrupt\u001b[0m: "
     ]
    }
   ],
   "source": [
    "from sklearn.ensemble import BaggingClassifier\n",
    "from lightgbm import LGBMClassifier\n",
    "\n",
    "# LightGBM을 기반으로 하는 Bagging Classifier\n",
    "bagging_model = BaggingClassifier(\n",
    "    base_estimator=LGBMClassifier(**params),\n",
    "    n_estimators=10,  # Bagging에서 사용할 모델 수\n",
    "    random_state=42\n",
    ")\n",
    "\n",
    "# 학습\n",
    "bagging_model.fit(x_train, y_train)\n",
    "\n",
    "# 예측\n",
    "y_valid_pred = bagging_model.predict(x_valid)\n",
    "\n",
    "# 평가\n",
    "accuracy = accuracy_score(y_valid, y_valid_pred)\n",
    "auroc = roc_auc_score(y_valid, bagging_model.predict_proba(x_valid), multi_class=\"ovr\")\n",
    "\n",
    "print(f\"Bagging - acc: {accuracy}, auroc: {auroc}\")"
   ]
  },
  {
   "cell_type": "code",
   "execution_count": null,
   "metadata": {},
   "outputs": [],
   "source": [
    "# from lightgbm import LGBMClassifier\n",
    "\n",
    "# # train_test_split 으로 valid set, train set 분리\n",
    "# x_train, x_valid, y_train, y_valid = train_test_split(\n",
    "#     train_df.drop([\"target\", \"ID\"], axis = 1), \n",
    "#     train_df[\"target\"].astype(int), \n",
    "#     test_size=0.2,\n",
    "#     random_state=42,\n",
    "# )\n",
    "\n",
    "# # LightGBM 모델 생성 및 학습\n",
    "# lgb_model = LGBMClassifier(\n",
    "#     boosting_type=\"gbdt\",\n",
    "#     objective=\"multiclass\",\n",
    "#     num_class=4,\n",
    "#     num_leaves=50,\n",
    "#     learning_rate=0.05,\n",
    "#     n_estimators=30,\n",
    "#     random_state=42,\n",
    "#     verbose=-1\n",
    "# )\n",
    "\n",
    "# lgb_model.fit(\n",
    "#     x_train, \n",
    "#     y_train,\n",
    "#     eval_set=[(x_valid, y_valid)],\n",
    "#     eval_metric='multi_logloss'\n",
    "# )\n"
   ]
  },
  {
   "cell_type": "markdown",
   "metadata": {},
   "source": [
    "#### XGBoost 학습"
   ]
  },
  {
   "cell_type": "code",
   "execution_count": null,
   "metadata": {},
   "outputs": [],
   "source": [
    "# import xgboost as xgb\n",
    "# from sklearn.ensemble import VotingClassifier\n",
    "\n",
    "# # train_test_split 으로 valid set, train set 분리\n",
    "# x_train, x_valid, y_train, y_valid = train_test_split(\n",
    "#     train_df.drop([\"target\", \"ID\"], axis = 1), \n",
    "#     train_df[\"target\"].astype(int), \n",
    "#     test_size=0.2,\n",
    "#     random_state=42,\n",
    "# )\n",
    "\n",
    "# xgb_params = {\n",
    "#     'objective': 'multi:softprob',\n",
    "#     'num_class': 4,\n",
    "#     'learning_rate': 0.05,\n",
    "#     'max_depth': 6,\n",
    "#     'n_estimators': 100,\n",
    "#     'random_state': 42\n",
    "# }\n",
    "\n",
    "# # XGBoost 모델 학습 및 성능 체크\n",
    "# xgb_model = xgb.XGBClassifier(**xgb_params)\n",
    "# xgb_model.fit(x_train, y_train)\n"
   ]
  },
  {
   "cell_type": "markdown",
   "metadata": {},
   "source": [
    "#### Ensenble"
   ]
  },
  {
   "cell_type": "code",
   "execution_count": null,
   "metadata": {},
   "outputs": [],
   "source": [
    "# from sklearn.ensemble import RandomForestClassifier, VotingClassifier, BaggingClassifier\n",
    "# from sklearn.model_selection import cross_val_score\n",
    "# from sklearn.linear_model import LogisticRegression\n",
    "# from sklearn.model_selection import KFold\n",
    "# from sklearn.base import BaseEstimator, ClassifierMixin, clone\n",
    "# from sklearn.utils.validation import check_X_y, check_array, check_is_fitted\n",
    "# from sklearn.utils.multiclass import unique_labels\n",
    "\n",
    "# rf_model = RandomForestClassifier(n_estimators=100, random_state=42)\n",
    "\n",
    "# # 데이터 준비\n",
    "# X = train_df.drop([\"target\", \"ID\"], axis=1)\n",
    "# y = train_df[\"target\"].astype(int)\n",
    "\n",
    "# # 교차 검증을 위한 KFold 정의\n",
    "# kf = KFold(n_splits=5, shuffle=True, random_state=42)\n",
    "\n",
    "# # 1. Voting 앙상블\n",
    "# voting_hard = VotingClassifier(\n",
    "#     estimators=[('lgb', lgb_model), ('xgb', xgb_model), ('rf', rf_model)],\n",
    "#     voting='hard'\n",
    "# )\n",
    "\n",
    "# voting_soft = VotingClassifier(\n",
    "#     estimators=[('lgb', lgb_model), ('xgb', xgb_model), ('rf', rf_model)],\n",
    "#     voting='soft'\n",
    "# )\n",
    "\n",
    "# # 2. Bagging 앙상블\n",
    "# bagging = BaggingClassifier(base_estimator=lgb_model, n_estimators=10, random_state=42)\n",
    "\n",
    "# # 3. Stacking 앙상블\n",
    "\n",
    "# class StackingEnsemble(BaseEstimator, ClassifierMixin):\n",
    "#     def __init__(self, base_models, meta_model, n_folds=5):\n",
    "#         self.base_models = base_models\n",
    "#         self.meta_model = meta_model\n",
    "#         self.n_folds = n_folds\n",
    "\n",
    "#     def fit(self, X, y):\n",
    "#         # Check that X and y have correct shape\n",
    "#         X, y = check_X_y(X, y)\n",
    "#         # Store the classes seen during fit\n",
    "#         self.classes_ = unique_labels(y)\n",
    "\n",
    "#         self.base_models_ = [list() for _ in self.base_models]\n",
    "#         self.meta_model_ = clone(self.meta_model)\n",
    "#         kfold = KFold(n_splits=self.n_folds, shuffle=True, random_state=42)\n",
    "        \n",
    "#         out_of_fold_predictions = np.zeros((X.shape[0], len(self.base_models)))\n",
    "        \n",
    "#         for i, model in enumerate(self.base_models):\n",
    "#             for train_index, holdout_index in kfold.split(X, y):\n",
    "#                 instance = clone(model)\n",
    "#                 self.base_models_[i].append(instance)\n",
    "#                 instance.fit(X[train_index], y[train_index])\n",
    "#                 y_pred = instance.predict_proba(X[holdout_index])\n",
    "#                 out_of_fold_predictions[holdout_index, i] = y_pred[:, 1]\n",
    "        \n",
    "#         self.meta_model_.fit(out_of_fold_predictions, y)\n",
    "#         return self\n",
    "\n",
    "#     def predict(self, X):\n",
    "#         # Check is fit had been called\n",
    "#         check_is_fitted(self)\n",
    "#         # Input validation\n",
    "#         X = check_array(X)\n",
    "#         meta_features = np.column_stack([\n",
    "#             np.column_stack([model.predict_proba(X)[:, 1] for model in base_models]).mean(axis=1)\n",
    "#             for base_models in self.base_models_ ])\n",
    "#         return self.meta_model_.predict(meta_features)\n",
    "\n",
    "#     def predict_proba(self, X):\n",
    "#         # Check is fit had been called\n",
    "#         check_is_fitted(self)\n",
    "#         # Input validation\n",
    "#         X = check_array(X)\n",
    "#         meta_features = np.column_stack([\n",
    "#             np.column_stack([model.predict_proba(X)[:, 1] for model in base_models]).mean(axis=1)\n",
    "#             for base_models in self.base_models_ ])\n",
    "#         return self.meta_model_.predict_proba(meta_features)\n",
    "\n",
    "# stacking = StackingEnsemble(\n",
    "#     base_models=(lgb_model, xgb_model, rf_model),\n",
    "#     meta_model=LogisticRegression()\n",
    "# )\n",
    "\n",
    "# from sklearn.model_selection import cross_val_predict\n",
    "\n",
    "# accuracy_scores = cross_val_score(stacking, X, y, cv=kf, scoring='accuracy', error_score='raise')\n",
    "# # AUROC 계산\n",
    "# if hasattr(stacking, \"predict_proba\"):\n",
    "#     y_pred_proba = cross_val_predict(stacking, X, y, cv=kf, method='predict_proba')\n",
    "#     auroc_score = roc_auc_score(y, y_pred_proba, multi_class='ovr')\n",
    "# else:\n",
    "#     auroc_score = None\n",
    "\n",
    "# print(\"Stacking\")\n",
    "# print(f\"  - 평균 정확도: {accuracy_scores.mean()} (+/- {accuracy_scores.std() * 2})\")\n",
    "# if auroc_score:\n",
    "#     print(f\"  - AUROC: {auroc_score}\")\n",
    "# else:\n",
    "#     print(\"  - AUROC: Not available\")\n",
    "# print()\n",
    "\n"
   ]
  },
  {
   "cell_type": "code",
   "execution_count": null,
   "metadata": {},
   "outputs": [],
   "source": [
    "# from sklearn.metrics import roc_auc_score\n",
    "# from sklearn.model_selection import cross_val_predict\n",
    "\n",
    "# # 모델 리스트 (VotingHard 제외)\n",
    "# models = [lgb_model, xgb_model, rf_model, voting_soft, bagging]\n",
    "# model_names = ['LightGBM', 'XGBoost', 'RandomForest', 'VotingSoft', 'Bagging']\n",
    "\n",
    "# # 각 모델의 교차 검증 수행\n",
    "# for name, model in zip(model_names, models):\n",
    "#     # 정확도 계산\n",
    "#     accuracy_scores = cross_val_score(model, X, y, cv=kf, scoring='accuracy')\n",
    "    \n",
    "#     # AUROC 계산\n",
    "#     if hasattr(model, \"predict_proba\"):\n",
    "#         y_pred_proba = cross_val_predict(model, X, y, cv=kf, method='predict_proba')\n",
    "#         auroc_score = roc_auc_score(y, y_pred_proba, multi_class='ovr')\n",
    "#     else:\n",
    "#         auroc_score = None\n",
    "    \n",
    "#     print(f\"{name}:\")\n",
    "#     print(f\"  - 평균 정확도: {accuracy_scores.mean()} (+/- {accuracy_scores.std() * 2})\")\n",
    "#     if auroc_score:\n",
    "#         print(f\"  - AUROC: {auroc_score}\")\n",
    "#     else:\n",
    "#         print(\"  - AUROC: Not available\")\n",
    "#     print()\n"
   ]
  },
  {
   "cell_type": "code",
   "execution_count": null,
   "metadata": {},
   "outputs": [],
   "source": [
    "\n",
    "# # 최종 모델 선택 및 전체 데이터로 학습 (AUROC 기준)\n",
    "# best_model = models[np.argmax([\n",
    "#     roc_auc_score(y, cross_val_predict(model, X, y, cv=kf, method='predict_proba'), multi_class='ovr')\n",
    "#     if hasattr(model, \"predict_proba\") else 0 \n",
    "#     for model in models\n",
    "# ])]\n",
    "\n",
    "# best_model.fit(X, y)\n",
    "\n",
    "# # 테스트 데이터에 대한 예측\n",
    "# X_test = test_df.drop([\"target\", \"ID\"], axis=1)\n",
    "# y_test_pred = best_model.predict(X_test)\n",
    "# if hasattr(best_model, \"predict_proba\"):\n",
    "#     y_test_pred_proba = best_model.predict_proba(X_test)\n",
    "\n",
    "# # 제출 파일 생성\n",
    "# submission = submission.assign(target=y_test_pred)\n",
    "# submission.to_csv(\"output_best_ensemble.csv\", index=False)\n",
    "\n",
    "# print(f\"Best model: {type(best_model).__name__}\")"
   ]
  },
  {
   "cell_type": "markdown",
   "metadata": {},
   "source": [
    "### Inference"
   ]
  },
  {
   "cell_type": "markdown",
   "metadata": {},
   "source": [
    "앙상블의 inference & save 과정."
   ]
  },
  {
   "cell_type": "code",
   "execution_count": null,
   "metadata": {},
   "outputs": [],
   "source": [
    "# performance 체크후 전체 학습 데이터로 다시 재학습 - LGBM Bagging(알아서 주석 빼고 실행)\n",
    "\n",
    "x_train = train_df.drop([\"target\", \"ID\"], axis = 1)\n",
    "y_train = train_df[\"target\"].astype(int)\n",
    "train_data = lgb.Dataset(x_train, label=y_train)\n",
    "bagging_model.fit(x_train, y_train)\n",
    "\n",
    "y_test_pred = bagging_model.predict(test_df.drop([\"target\", \"ID\"], axis = 1))\n",
    "\n",
    "\n",
    "submission = submission.assign(target = y_test_pred_class)\n",
    "submission.to_csv(\"0925_median_output.csv\", index=False)"
   ]
  }
 ],
 "metadata": {
  "kernelspec": {
   "display_name": "Python 3.8.16 ('datawrg')",
   "language": "python",
   "name": "python3"
  },
  "language_info": {
   "codemirror_mode": {
    "name": "ipython",
    "version": 3
   },
   "file_extension": ".py",
   "mimetype": "text/x-python",
   "name": "python",
   "nbconvert_exporter": "python",
   "pygments_lexer": "ipython3",
   "version": "3.8.16"
  },
  "vscode": {
   "interpreter": {
    "hash": "ab2bf47c83e23e79da7154310486cd6f2111092cec5daef28d72dd2b3b6f44d2"
   }
  }
 },
 "nbformat": 4,
 "nbformat_minor": 2
}
