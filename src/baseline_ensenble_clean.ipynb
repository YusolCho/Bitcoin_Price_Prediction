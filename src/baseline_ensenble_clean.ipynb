{
 "cells": [
  {
   "cell_type": "markdown",
   "metadata": {},
   "source": [
    "### Import Library"
   ]
  },
  {
   "cell_type": "code",
   "execution_count": 1,
   "metadata": {},
   "outputs": [],
   "source": [
    "# 이 중에서 안깔린 라이브러리가 있을 수 있음\n",
    "import sys\n",
    "import os\n",
    "from typing import List, Dict, Tuple\n",
    "from tqdm import tqdm\n",
    "import numpy as np\n",
    "import pandas as pd\n",
    "from sklearn.model_selection import train_test_split\n",
    "from sklearn.metrics import accuracy_score, roc_auc_score\n",
    "import lightgbm as lgb\n",
    "from plotly.subplots import make_subplots\n",
    "import plotly.graph_objects as go\n",
    "from sklearn.preprocessing import QuantileTransformer\n",
    "\n",
    "\n",
    "import seaborn as sns\n",
    "import matplotlib.pyplot as plt\n",
    "import pywt\n",
    "\n",
    "sys.path.append(os.path.abspath('../'))  # 알아서 수정해 쓸 것\n",
    "from func.utils import evaluate_model\n",
    "import func.features as ft\n",
    "\n",
    "from lightgbm import LGBMClassifier\n",
    "import xgboost as xgb\n",
    "from sklearn.ensemble import RandomForestClassifier\n",
    "from sklearn.metrics import accuracy_score, roc_auc_score\n",
    "from sklearn.ensemble import BaggingClassifier\n",
    "from sklearn.ensemble import VotingClassifier"
   ]
  },
  {
   "cell_type": "markdown",
   "metadata": {},
   "source": [
    "### Load Data"
   ]
  },
  {
   "cell_type": "code",
   "execution_count": 2,
   "metadata": {},
   "outputs": [
    {
     "name": "stderr",
     "output_type": "stream",
     "text": [
      "100%|██████████| 107/107 [00:03<00:00, 31.34it/s]\n"
     ]
    }
   ],
   "source": [
    "path = \"../../../data/\" # 본인 작업환경에 맞게 변경\n",
    "\n",
    "train = pd.read_csv(path+\"train.csv\").assign(_type=\"train\")\n",
    "test = pd.read_csv(path+\"test.csv\").assign(_type=\"test\")\n",
    "submission = pd.read_csv(path+\"test.csv\")\n",
    "df = pd.concat([train, test], axis=0)\n",
    "\n",
    "# HOURLY_ 로 시작하는 .csv 파일 이름을 file_names 에 할딩\n",
    "file_names: List[str] = [\n",
    "    f for f in os.listdir(path) if f.startswith(\"HOURLY_\") and f.endswith(\".csv\")\n",
    "]\n",
    "\n",
    "# 파일명 : 데이터프레임으로 딕셔너리 형태로 저장\n",
    "file_dict: Dict[str, pd.DataFrame] = {\n",
    "    f.replace(\".csv\", \"\"): pd.read_csv(os.path.join(path, f)) for f in file_names\n",
    "}\n",
    "\n",
    "for _file_name, _df in tqdm(file_dict.items()):\n",
    "    # 열 이름 중복 방지를 위해 {_file_name.lower()}_{col.lower()}로 변경, datetime 열을 ID로 변경\n",
    "    _rename_rule = {\n",
    "        col: f\"{_file_name.lower()}_{col.lower()}\" if col != \"datetime\" else \"ID\"\n",
    "        for col in _df.columns\n",
    "    }\n",
    "    _df = _df.rename(_rename_rule, axis=1)\n",
    "    df = df.merge(_df, on=\"ID\", how=\"left\")"
   ]
  },
  {
   "cell_type": "code",
   "execution_count": 3,
   "metadata": {},
   "outputs": [
    {
     "data": {
      "text/plain": [
       "hourly_market-data_open-interest_gate_io_open_interest                11552\n",
       "hourly_market-data_taker-buy-sell-stats_okex_taker_buy_volume         11552\n",
       "hourly_market-data_open-interest_bitmex_open_interest                 11552\n",
       "hourly_market-data_taker-buy-sell-stats_okex_taker_sell_volume        11552\n",
       "hourly_market-data_taker-buy-sell-stats_okex_taker_buy_ratio          11552\n",
       "                                                                      ...  \n",
       "hourly_market-data_open-interest_htx_global_btc_usdt_open_interest        0\n",
       "hourly_network-data_blockreward_blockreward_usd                           0\n",
       "hourly_network-data_blockreward_blockreward                               0\n",
       "_type                                                                     0\n",
       "ID                                                                        0\n",
       "Length: 255, dtype: int64"
      ]
     },
     "execution_count": 3,
     "metadata": {},
     "output_type": "execute_result"
    }
   ],
   "source": [
    "df.isnull().sum().sort_values(ascending=False)"
   ]
  },
  {
   "cell_type": "code",
   "execution_count": 4,
   "metadata": {},
   "outputs": [],
   "source": [
    "# 결측치 처리 - 칼럼 정리 \n",
    "\n",
    "# 결측치 확인 및 처리를 위해 train, test로 분리 \n",
    "train_df = df[df['_type'] == 'train']\n",
    "test_df = df[df['_type'] == 'test']\n",
    "\n",
    "# 결측치 많은 칼럼 확인\n",
    "train_drop_cols = train_df.columns[train_df.isnull().sum() > 4000].tolist()\n",
    "test_drop_cols = test_df.iloc[:, 2:].columns[test_df.iloc[:, 2:].isnull().sum() > 2000].tolist()\n",
    "total_drop_cols = set(train_drop_cols).union(set(test_drop_cols))\n",
    "\n",
    "# 결측치 많은 칼럼 제거 후 train, test 다시 병합\n",
    "train_df = train_df.drop(total_drop_cols,axis=1)\n",
    "test_df = test_df.drop(total_drop_cols,axis=1)\n"
   ]
  },
  {
   "cell_type": "code",
   "execution_count": 5,
   "metadata": {},
   "outputs": [
    {
     "name": "stdout",
     "output_type": "stream",
     "text": [
      "ID                                                                           0\n",
      "target                                                                       0\n",
      "_type                                                                        0\n",
      "hourly_market-data_taker-buy-sell-stats_bybit_taker_buy_volume               0\n",
      "hourly_market-data_taker-buy-sell-stats_bybit_taker_sell_volume              0\n",
      "                                                                            ..\n",
      "hourly_market-data_open-interest_okx_all_symbol_open_interest                0\n",
      "hourly_market-data_liquidations_gate_io_all_symbol_long_liquidations         0\n",
      "hourly_market-data_liquidations_gate_io_all_symbol_short_liquidations        0\n",
      "hourly_market-data_liquidations_gate_io_all_symbol_long_liquidations_usd     0\n",
      "hourly_market-data_liquidations_gate_io_all_symbol_short_liquidations_usd    0\n",
      "Length: 208, dtype: int64\n",
      "ID                                                                              0\n",
      "target                                                                       2792\n",
      "_type                                                                           0\n",
      "hourly_market-data_taker-buy-sell-stats_bybit_taker_buy_volume                  0\n",
      "hourly_market-data_taker-buy-sell-stats_bybit_taker_sell_volume                 0\n",
      "                                                                             ... \n",
      "hourly_market-data_open-interest_okx_all_symbol_open_interest                   0\n",
      "hourly_market-data_liquidations_gate_io_all_symbol_long_liquidations            0\n",
      "hourly_market-data_liquidations_gate_io_all_symbol_short_liquidations           0\n",
      "hourly_market-data_liquidations_gate_io_all_symbol_long_liquidations_usd        0\n",
      "hourly_market-data_liquidations_gate_io_all_symbol_short_liquidations_usd       0\n",
      "Length: 208, dtype: int64\n"
     ]
    }
   ],
   "source": [
    "# 복사해서 보간 진행\n",
    "tmp_train_df = train_df.drop(['ID', 'target', '_type'], axis=1).copy()\n",
    "tmp_test_df = test_df.drop(['ID', 'target', '_type'], axis=1).copy()\n",
    "\n",
    "# 결측치 처리 - 선형 보간법 (linear interpolation)\n",
    "train_df_interpolated = tmp_train_df.interpolate(method='linear')\n",
    "test_df_interpolated = tmp_test_df.interpolate(method='linear')\n",
    "\n",
    "# 학습/테스트 데이터 부분 업데이트\n",
    "train_df.update(train_df_interpolated)\n",
    "test_df.update(test_df_interpolated)\n",
    "\n",
    "# 결측치 처리 후 확인\n",
    "print(train_df.isnull().sum())\n",
    "print(test_df.isnull().sum())\n",
    "\n",
    "# df로 다시 합치기\n",
    "df= pd.concat([train_df, test_df], axis = 0)"
   ]
  },
  {
   "cell_type": "code",
   "execution_count": 6,
   "metadata": {},
   "outputs": [],
   "source": [
    "df= pd.concat([train_df, test_df], axis = 0)"
   ]
  },
  {
   "cell_type": "code",
   "execution_count": 7,
   "metadata": {},
   "outputs": [
    {
     "name": "stdout",
     "output_type": "stream",
     "text": [
      "0이 많은 컬럼: ['hourly_market-data_liquidations_htx_global_btc_usd_long_liquidations', 'hourly_market-data_liquidations_htx_global_btc_usd_short_liquidations', 'hourly_market-data_liquidations_htx_global_btc_usd_long_liquidations_usd', 'hourly_market-data_liquidations_htx_global_btc_usd_short_liquidations_usd', 'hourly_market-data_liquidations_bybit_btc_usdt_long_liquidations', 'hourly_market-data_liquidations_bybit_btc_usdt_short_liquidations', 'hourly_market-data_liquidations_bybit_btc_usdt_long_liquidations_usd', 'hourly_market-data_liquidations_bybit_btc_usdt_short_liquidations_usd', 'hourly_market-data_liquidations_gate_io_btc_usd_long_liquidations', 'hourly_market-data_liquidations_gate_io_btc_usd_short_liquidations', 'hourly_market-data_liquidations_gate_io_btc_usd_long_liquidations_usd', 'hourly_market-data_liquidations_gate_io_btc_usd_short_liquidations_usd', 'hourly_market-data_liquidations_okx_btc_usd_long_liquidations', 'hourly_market-data_liquidations_okx_btc_usd_short_liquidations', 'hourly_market-data_liquidations_okx_btc_usd_long_liquidations_usd', 'hourly_market-data_liquidations_okx_btc_usd_short_liquidations_usd', 'hourly_market-data_liquidations_bybit_btc_usd_long_liquidations', 'hourly_market-data_liquidations_bybit_btc_usd_short_liquidations', 'hourly_market-data_liquidations_bybit_btc_usd_long_liquidations_usd', 'hourly_market-data_liquidations_bybit_btc_usd_short_liquidations_usd', 'hourly_market-data_liquidations_deribit_btc_usd_long_liquidations', 'hourly_market-data_liquidations_deribit_btc_usd_short_liquidations', 'hourly_market-data_liquidations_deribit_btc_usd_long_liquidations_usd', 'hourly_market-data_liquidations_deribit_btc_usd_short_liquidations_usd', 'hourly_market-data_liquidations_bitfinex_btc_usdt_long_liquidations', 'hourly_market-data_liquidations_bitfinex_btc_usdt_short_liquidations', 'hourly_market-data_liquidations_bitfinex_btc_usdt_long_liquidations_usd', 'hourly_market-data_liquidations_bitfinex_btc_usdt_short_liquidations_usd', 'hourly_market-data_liquidations_gate_io_btc_usdt_long_liquidations', 'hourly_market-data_liquidations_gate_io_btc_usdt_short_liquidations', 'hourly_market-data_liquidations_gate_io_btc_usdt_long_liquidations_usd', 'hourly_market-data_liquidations_gate_io_btc_usdt_short_liquidations_usd', 'hourly_market-data_liquidations_bitmex_btc_usd_long_liquidations', 'hourly_market-data_liquidations_bitmex_btc_usd_short_liquidations', 'hourly_market-data_liquidations_bitmex_btc_usd_long_liquidations_usd', 'hourly_market-data_liquidations_bitmex_btc_usd_short_liquidations_usd', 'hourly_market-data_liquidations_bitmex_all_symbol_long_liquidations', 'hourly_market-data_liquidations_bitmex_all_symbol_short_liquidations', 'hourly_market-data_liquidations_bitmex_all_symbol_long_liquidations_usd', 'hourly_market-data_liquidations_bitmex_all_symbol_short_liquidations_usd', 'hourly_market-data_liquidations_bybit_all_symbol_short_liquidations', 'hourly_market-data_liquidations_bybit_all_symbol_short_liquidations_usd', 'hourly_market-data_liquidations_deribit_all_symbol_long_liquidations', 'hourly_market-data_liquidations_deribit_all_symbol_short_liquidations', 'hourly_market-data_liquidations_deribit_all_symbol_long_liquidations_usd', 'hourly_market-data_liquidations_deribit_all_symbol_short_liquidations_usd', 'hourly_market-data_liquidations_huobi_global_btc_usd_long_liquidations', 'hourly_market-data_liquidations_huobi_global_btc_usd_short_liquidations', 'hourly_market-data_liquidations_huobi_global_btc_usd_long_liquidations_usd', 'hourly_market-data_liquidations_huobi_global_btc_usd_short_liquidations_usd', 'hourly_market-data_liquidations_bitfinex_all_symbol_long_liquidations', 'hourly_market-data_liquidations_bitfinex_all_symbol_short_liquidations', 'hourly_market-data_liquidations_bitfinex_all_symbol_long_liquidations_usd', 'hourly_market-data_liquidations_bitfinex_all_symbol_short_liquidations_usd', 'hourly_market-data_liquidations_binance_btc_usd_long_liquidations', 'hourly_market-data_liquidations_binance_btc_usd_short_liquidations', 'hourly_market-data_liquidations_binance_btc_usd_long_liquidations_usd', 'hourly_market-data_liquidations_binance_btc_usd_short_liquidations_usd', 'hourly_market-data_liquidations_gate_io_all_symbol_long_liquidations', 'hourly_market-data_liquidations_gate_io_all_symbol_short_liquidations', 'hourly_market-data_liquidations_gate_io_all_symbol_long_liquidations_usd', 'hourly_market-data_liquidations_gate_io_all_symbol_short_liquidations_usd']\n",
      "hourly_market-data_liquidations_htx_global_btc_usd_long_liquidations: 88.02%\n",
      "hourly_market-data_liquidations_htx_global_btc_usd_short_liquidations: 91.69%\n",
      "hourly_market-data_liquidations_htx_global_btc_usd_long_liquidations_usd: 88.02%\n",
      "hourly_market-data_liquidations_htx_global_btc_usd_short_liquidations_usd: 91.69%\n",
      "hourly_market-data_liquidations_bybit_btc_usdt_long_liquidations: 54.09%\n",
      "hourly_market-data_liquidations_bybit_btc_usdt_short_liquidations: 51.91%\n",
      "hourly_market-data_liquidations_bybit_btc_usdt_long_liquidations_usd: 54.09%\n",
      "hourly_market-data_liquidations_bybit_btc_usdt_short_liquidations_usd: 51.91%\n",
      "hourly_market-data_liquidations_gate_io_btc_usd_long_liquidations: 89.33%\n",
      "hourly_market-data_liquidations_gate_io_btc_usd_short_liquidations: 91.33%\n",
      "hourly_market-data_liquidations_gate_io_btc_usd_long_liquidations_usd: 89.33%\n",
      "hourly_market-data_liquidations_gate_io_btc_usd_short_liquidations_usd: 91.33%\n",
      "hourly_market-data_liquidations_okx_btc_usd_long_liquidations: 81.36%\n",
      "hourly_market-data_liquidations_okx_btc_usd_short_liquidations: 84.68%\n",
      "hourly_market-data_liquidations_okx_btc_usd_long_liquidations_usd: 81.36%\n",
      "hourly_market-data_liquidations_okx_btc_usd_short_liquidations_usd: 84.68%\n",
      "hourly_market-data_liquidations_bybit_btc_usd_long_liquidations: 58.56%\n",
      "hourly_market-data_liquidations_bybit_btc_usd_short_liquidations: 65.34%\n",
      "hourly_market-data_liquidations_bybit_btc_usd_long_liquidations_usd: 58.56%\n",
      "hourly_market-data_liquidations_bybit_btc_usd_short_liquidations_usd: 65.34%\n",
      "hourly_market-data_liquidations_deribit_btc_usd_long_liquidations: 95.52%\n",
      "hourly_market-data_liquidations_deribit_btc_usd_short_liquidations: 95.91%\n",
      "hourly_market-data_liquidations_deribit_btc_usd_long_liquidations_usd: 95.52%\n",
      "hourly_market-data_liquidations_deribit_btc_usd_short_liquidations_usd: 95.91%\n",
      "hourly_market-data_liquidations_bitfinex_btc_usdt_long_liquidations: 90.88%\n",
      "hourly_market-data_liquidations_bitfinex_btc_usdt_short_liquidations: 92.47%\n",
      "hourly_market-data_liquidations_bitfinex_btc_usdt_long_liquidations_usd: 90.88%\n",
      "hourly_market-data_liquidations_bitfinex_btc_usdt_short_liquidations_usd: 92.47%\n",
      "hourly_market-data_liquidations_gate_io_btc_usdt_long_liquidations: 60.35%\n",
      "hourly_market-data_liquidations_gate_io_btc_usdt_short_liquidations: 56.67%\n",
      "hourly_market-data_liquidations_gate_io_btc_usdt_long_liquidations_usd: 60.36%\n",
      "hourly_market-data_liquidations_gate_io_btc_usdt_short_liquidations_usd: 56.67%\n",
      "hourly_market-data_liquidations_bitmex_btc_usd_long_liquidations: 82.85%\n",
      "hourly_market-data_liquidations_bitmex_btc_usd_short_liquidations: 87.96%\n",
      "hourly_market-data_liquidations_bitmex_btc_usd_long_liquidations_usd: 82.85%\n",
      "hourly_market-data_liquidations_bitmex_btc_usd_short_liquidations_usd: 87.96%\n",
      "hourly_market-data_liquidations_bitmex_all_symbol_long_liquidations: 82.68%\n",
      "hourly_market-data_liquidations_bitmex_all_symbol_short_liquidations: 87.98%\n",
      "hourly_market-data_liquidations_bitmex_all_symbol_long_liquidations_usd: 82.68%\n",
      "hourly_market-data_liquidations_bitmex_all_symbol_short_liquidations_usd: 87.98%\n",
      "hourly_market-data_liquidations_bybit_all_symbol_short_liquidations: 50.84%\n",
      "hourly_market-data_liquidations_bybit_all_symbol_short_liquidations_usd: 50.84%\n",
      "hourly_market-data_liquidations_deribit_all_symbol_long_liquidations: 95.52%\n",
      "hourly_market-data_liquidations_deribit_all_symbol_short_liquidations: 95.91%\n",
      "hourly_market-data_liquidations_deribit_all_symbol_long_liquidations_usd: 95.52%\n",
      "hourly_market-data_liquidations_deribit_all_symbol_short_liquidations_usd: 95.91%\n",
      "hourly_market-data_liquidations_huobi_global_btc_usd_long_liquidations: 88.05%\n",
      "hourly_market-data_liquidations_huobi_global_btc_usd_short_liquidations: 91.72%\n",
      "hourly_market-data_liquidations_huobi_global_btc_usd_long_liquidations_usd: 88.05%\n",
      "hourly_market-data_liquidations_huobi_global_btc_usd_short_liquidations_usd: 91.72%\n",
      "hourly_market-data_liquidations_bitfinex_all_symbol_long_liquidations: 91.01%\n",
      "hourly_market-data_liquidations_bitfinex_all_symbol_short_liquidations: 92.54%\n",
      "hourly_market-data_liquidations_bitfinex_all_symbol_long_liquidations_usd: 91.01%\n",
      "hourly_market-data_liquidations_bitfinex_all_symbol_short_liquidations_usd: 92.54%\n",
      "hourly_market-data_liquidations_binance_btc_usd_long_liquidations: 56.94%\n",
      "hourly_market-data_liquidations_binance_btc_usd_short_liquidations: 63.56%\n",
      "hourly_market-data_liquidations_binance_btc_usd_long_liquidations_usd: 56.94%\n",
      "hourly_market-data_liquidations_binance_btc_usd_short_liquidations_usd: 63.56%\n",
      "hourly_market-data_liquidations_gate_io_all_symbol_long_liquidations: 60.01%\n",
      "hourly_market-data_liquidations_gate_io_all_symbol_short_liquidations: 56.86%\n",
      "hourly_market-data_liquidations_gate_io_all_symbol_long_liquidations_usd: 60.02%\n",
      "hourly_market-data_liquidations_gate_io_all_symbol_short_liquidations_usd: 56.86%\n",
      "62\n"
     ]
    }
   ],
   "source": [
    "def get_columns_with_many_zeros(df, threshold_ratio=0.5):\n",
    "    \"\"\"\n",
    "    주어진 임계값 비율 이상의 0을 가진 열을 반환합니다.\n",
    "    \n",
    "    :param df: 데이터프레임\n",
    "    :param threshold_ratio: 0의 비율 임계값 (기본값: 0.5, 즉 50%)\n",
    "    :return: 임계값 이상의 0을 가진 열 이름 리스트\n",
    "    \"\"\"\n",
    "    # 각 열에서 0의 개수를 계산\n",
    "    zero_counts = (df == 0).sum()\n",
    "    \n",
    "    # 전체 행 수 대비 0의 비율 계산\n",
    "    zero_ratios = zero_counts / len(df)\n",
    "    \n",
    "    # 임계값 이상의 0 비율을 가진 열 선택\n",
    "    columns_with_many_zeros = zero_ratios[zero_ratios >= threshold_ratio].index.tolist()\n",
    "    \n",
    "    return columns_with_many_zeros\n",
    "\n",
    "# 사용 예시\n",
    "# df는 여러분의 데이터프레임입니다\n",
    "columns_with_many_zeros = get_columns_with_many_zeros(df, threshold_ratio=0.5)\n",
    "print(\"0이 많은 컬럼:\", columns_with_many_zeros)\n",
    "\n",
    "# 0이 많은 컬럼의 비율 출력\n",
    "zero_ratios = (df == 0).sum() / len(df)\n",
    "for col in columns_with_many_zeros:\n",
    "    print(f\"{col}: {zero_ratios[col]:.2%}\")\n",
    "print(len(columns_with_many_zeros))"
   ]
  },
  {
   "cell_type": "code",
   "execution_count": 8,
   "metadata": {},
   "outputs": [
    {
     "data": {
      "text/plain": [
       "(11552, 208)"
      ]
     },
     "execution_count": 8,
     "metadata": {},
     "output_type": "execute_result"
    }
   ],
   "source": [
    "df.shape"
   ]
  },
  {
   "cell_type": "code",
   "execution_count": 9,
   "metadata": {},
   "outputs": [],
   "source": [
    "# df = df.drop(columns_with_many_zeros, axis=1)"
   ]
  },
  {
   "cell_type": "code",
   "execution_count": 10,
   "metadata": {},
   "outputs": [
    {
     "data": {
      "text/plain": [
       "(11552, 208)"
      ]
     },
     "execution_count": 10,
     "metadata": {},
     "output_type": "execute_result"
    }
   ],
   "source": [
    "df.shape"
   ]
  },
  {
   "cell_type": "markdown",
   "metadata": {},
   "source": [
    "### Quantile Transform "
   ]
  },
  {
   "cell_type": "code",
   "execution_count": 11,
   "metadata": {},
   "outputs": [],
   "source": [
    "# from sklearn.preprocessing import QuantileTransformer\n",
    "\n",
    "# # 3번째 열부터 마지막 열까지 선택\n",
    "# train_df_subset = df[df['_type'] == 'train'].iloc[:, 3:]\n",
    "# test_df_subset = df[df['_type'] == 'test'].iloc[:, 3:]\n",
    "\n",
    "# # 왜도 계산\n",
    "# skewness = train_df_subset.skew()\n",
    "\n",
    "# # 임계값 설정 (0.8 이상이면 right skewed, -0.3 이하면 left skewed로 구분)\n",
    "# right_skewed = skewness[skewness > 0.8].index\n",
    "# left_skewed = skewness[skewness < -0.3].index\n",
    "\n",
    "# # Quantile Transform\n",
    "# quantile_transformer_right = QuantileTransformer(output_distribution='normal', random_state=0)\n",
    "# quantile_transformer_left = QuantileTransformer(output_distribution='normal', random_state=0)\n",
    "\n",
    "# # train 데이터에 fit_transform 적용\n",
    "# train_df_subset[right_skewed] = quantile_transformer_right.fit_transform(train_df_subset[right_skewed])\n",
    "# train_df_subset[left_skewed] = quantile_transformer_left.fit_transform(train_df_subset[left_skewed])\n",
    "\n",
    "# # test 데이터에 transform만 적용 (train에서 fit한 값을 기반으로 변환)\n",
    "# test_df_subset[right_skewed] = quantile_transformer_right.transform(test_df_subset[right_skewed])\n",
    "# test_df_subset[left_skewed] = quantile_transformer_left.transform(test_df_subset[left_skewed])\n",
    "\n",
    "# df_subset = pd.concat([train_df_subset, test_df_subset], axis=0)\n",
    "# df.iloc[:, 3:] = df_subset"
   ]
  },
  {
   "cell_type": "markdown",
   "metadata": {},
   "source": [
    "### Feature engineering"
   ]
  },
  {
   "cell_type": "markdown",
   "metadata": {},
   "source": [
    "#### Received Baseline"
   ]
  },
  {
   "cell_type": "code",
   "execution_count": 12,
   "metadata": {},
   "outputs": [
    {
     "data": {
      "text/plain": [
       "Index(['ID', 'target', '_type', 'taker-buy-sell-stats_bybit_taker_buy_volume',\n",
       "       'taker-buy-sell-stats_bybit_taker_sell_volume',\n",
       "       'taker-buy-sell-stats_bybit_taker_buy_ratio',\n",
       "       'taker-buy-sell-stats_bybit_taker_sell_ratio',\n",
       "       'taker-buy-sell-stats_bybit_taker_buy_sell_ratio',\n",
       "       'liquidations_htx_global_btc_usd_long_liquidations',\n",
       "       'liquidations_htx_global_btc_usd_short_liquidations',\n",
       "       ...\n",
       "       'blockreward_blockreward', 'blockreward_blockreward_usd',\n",
       "       'difficulty_difficulty', 'utxo-count_utxo_count',\n",
       "       'open-interest_binance_btc_usd_open_interest',\n",
       "       'open-interest_okx_all_symbol_open_interest',\n",
       "       'liquidations_gate_io_all_symbol_long_liquidations',\n",
       "       'liquidations_gate_io_all_symbol_short_liquidations',\n",
       "       'liquidations_gate_io_all_symbol_long_liquidations_usd',\n",
       "       'liquidations_gate_io_all_symbol_short_liquidations_usd'],\n",
       "      dtype='object', length=208)"
      ]
     },
     "metadata": {},
     "output_type": "display_data"
    }
   ],
   "source": [
    "# 불필요한 접두사 제거 \n",
    "df.columns = df.columns.str.replace('hourly_market-data_|hourly_network-data_', '', regex=True)\n",
    "display(df.columns)"
   ]
  },
  {
   "cell_type": "code",
   "execution_count": 13,
   "metadata": {},
   "outputs": [
    {
     "data": {
      "text/plain": [
       "0        0.012000\n",
       "1       -0.712000\n",
       "2        0.000000\n",
       "3        0.593000\n",
       "4        0.361000\n",
       "           ...   \n",
       "11547    0.466500\n",
       "11548    6.431208\n",
       "11549   -3.419327\n",
       "11550   -0.853000\n",
       "11551   -1.569674\n",
       "Name: liquidation_diff, Length: 11552, dtype: float64"
      ]
     },
     "execution_count": 13,
     "metadata": {},
     "output_type": "execute_result"
    }
   ],
   "source": [
    "# 제공된 피처 엔지니어링 적용\n",
    "df = ft.make_baseline_extra(df)\n",
    "df['liquidation_diff'] # 확인"
   ]
  },
  {
   "cell_type": "code",
   "execution_count": 14,
   "metadata": {},
   "outputs": [],
   "source": [
    "# 1. 날짜 피처 생성\n",
    "df = ft.make_date(df, 'ID') \n",
    "\n",
    "# 2. Open Interest 관련 변동성, 차분 피처 생성\n",
    "imp_open_interest_columns = [\n",
    "    'open-interest_all_exchange_all_symbol_open_interest',\n",
    "    'open-interest_binance_btc_usd_open_interest',\n",
    "    'open-interest_okx_btc_usdt_open_interest',\n",
    "    'open-interest_deribit_btc_usd_open_interest',\n",
    "    'open-interest_deribit_all_symbol_open_interest',\n",
    "    'open-interest_bybit_btc_usdt_open_interest',\n",
    "    'open-interest_bitfinex_btc_usdt_open_interest',\n",
    "    'open-interest_bybit_all_symbol_open_interest'\n",
    "] \n",
    "df = ft.make_diff_change(df, imp_open_interest_columns) # 변동성, 차분 피처 \n",
    "\n",
    "# 3. 롱/숏 비율\n",
    "df = ft.make_liquidation_to_volume_ratio(df, 'liquidations_deribit_all_symbol_long_liquidations', 'liquidations_deribit_all_symbol_short_liquidations',\n",
    "    'taker-buy-sell-stats_binance_taker_buy_volume', 'taker-buy-sell-stats_binance_taker_sell_volume') # 롱/숏 비율\n",
    "\n",
    "# 4. 청산/거래량 비율\n",
    "df = ft.make_liquidation_to_volume_ratio(df,'liquidations_deribit_all_symbol_long_liquidations', 'liquidations_deribit_all_symbol_short_liquidations',\n",
    "    'taker-buy-sell-stats_binance_taker_buy_volume','taker-buy-sell-stats_binance_taker_sell_volume')\n",
    "\n",
    "# 5. # 청산된 USD 롱/숏 비율\n",
    "df = ft.make_liquidation_usd_ratio(df,'liquidations_deribit_all_symbol_long_liquidations_usd','liquidations_deribit_all_symbol_short_liquidations_usd')\n",
    "\n",
    "# 6. 펀딩 비율과 롱/숏 포지션 차이 곱\n",
    "df = ft.make_funding_rate_position_change(df, 'funding-rates_okx_funding_rates', 'liquidations_deribit_all_symbol_long_liquidations', \n",
    "    'liquidations_deribit_all_symbol_short_liquidations')\n",
    "\n",
    "# 7. 프리미엄 갭과 프리미엄 인덱스의 차이\n",
    "df = ft.make_premium_diff(df, 'coinbase-premium-index_coinbase_premium_gap', 'coinbase-premium-index_coinbase_premium_index')\n",
    "\n",
    "# 8. 해시레이트와 난이도 간의 비율\n",
    "df = ft.make_hashrate_to_difficulty(df, 'hashrate_hashrate', 'difficulty_difficulty')\n",
    "\n",
    "# 9. 공급 변화율\n",
    "df = ft.make_supply_change_rate(df, 'supply_supply_new', 'supply_supply_total')\n",
    "\n",
    "# 10. Rolling(이동평균) 피처\n",
    "df = ft.make_multiple_rolling(df, ['ID', 'target', '_type'] + ['year', 'month', 'week', 'day_of_week', 'hour'])"
   ]
  },
  {
   "cell_type": "code",
   "execution_count": 15,
   "metadata": {},
   "outputs": [],
   "source": [
    "# 카테고리, 날짜, 롤링, 수치형 피처 분류\n",
    "category_cols: List[str] = [\"liquidation_diffg\", \"liquidation_usd_diffg\", \"volume_diffg\"]\n",
    "date_columns = ['ID', 'year', 'month', 'week', 'day_of_week', 'hour']\n",
    "rolling_columns = [col for col in df.columns if 'rolling' in col]  # 'rolling'이 포함된 피처\n",
    "conti_cols: List[str] = [col for col in df.columns if col not in category_cols + date_columns + rolling_columns + ['target', '_type']]\n",
    "\n",
    "# 모든 수치형 컬럼에 대한 지수이동평균 계산\n",
    "ema_dfs = []\n",
    "for c in conti_cols:\n",
    "    ema_df = ft.make_EMA(df, [c], 7)\n",
    "    ema_df.columns = [f\"{c}_moving_avg_7\"]\n",
    "    ema_dfs.append(ema_df)\n",
    "\n",
    "# 원본 데이터프레임과 새로 계산된 EMA 데이터프레임들을 병합\n",
    "df = pd.concat([df] + ema_dfs, axis=1)\n",
    "    \n",
    "\n",
    "# 모든 수치형 컬럼에 대한 Wavelet transform을 계산\n",
    "wt_dfs = []\n",
    "for c in conti_cols:\n",
    "    wt_series = pd.Series(ft.make_WT(df, c), name=f\"{c}_WT\", index=df.index)\n",
    "    wt_dfs.append(wt_series)\n",
    "\n",
    "# 원본 데이터프레임과 새로 계산된 WT 시리즈들을 병합\n",
    "df = pd.concat([df] + wt_dfs, axis=1)\n",
    "\n",
    "# 최대 24시간의 shift 피쳐를 계산\n",
    "shift_list = ft.make_shift(\n",
    "    df=df, conti_cols=conti_cols, intervals=[_ for _ in [1, 2, 5, 23, 47]]\n",
    ")"
   ]
  },
  {
   "cell_type": "code",
   "execution_count": 16,
   "metadata": {},
   "outputs": [],
   "source": [
    "df = pd.concat([df, pd.concat(shift_list, axis=1)], axis=1)\n",
    "_target = df[\"target\"]\n",
    "df = df.ffill().fillna(-999).assign(target = _target)\n",
    "# df = df.loc[:, ~df.columns.duplicated()]\n",
    "# df = df.drop(columns=new_features)\n",
    "\n",
    "train_df = df.loc[df[\"_type\"]==\"train\"].drop(columns=[\"_type\"])\n",
    "test_df = df.loc[df[\"_type\"]==\"test\"].drop(columns=[\"_type\"])"
   ]
  },
  {
   "cell_type": "markdown",
   "metadata": {},
   "source": [
    "### Model Training"
   ]
  },
  {
   "cell_type": "code",
   "execution_count": 17,
   "metadata": {},
   "outputs": [],
   "source": [
    "# 칼럼 그룹 정리  (추후 실험에서 특정 피처들 포함/미포함을 쉽게 관리하기 위함. 교집합 없음)\n",
    "\n",
    "# 기존 칼럼\n",
    "addresses_columns = [col for col in df.columns if 'addresses' in col] # addresses(주소) 관련 피처. 변수명에 'addresses'포함\n",
    "block_columns = [col for col in df.columns if 'block-' in col] # block(블록) 관련 피처. 변수명에 'block-' 포함 \n",
    "blockreward_columns = [col for col in df.columns if 'blockreward' in col] # blockreward 관련 피처\n",
    "difficulty_columns = [col for col in df.columns if 'difficulty' in col] # difficulty 관련 피처\n",
    "fees_columns = [col for col in df.columns if 'fees' in col] # fees 관련 피처\n",
    "hashrate_columns = [col for col in df.columns if 'hashrate' in col] # hashrate 관련 피처\n",
    "supply_columns = [col for col in df.columns if 'supply_supply' in col] # supply 관련 피처\n",
    "tokens_columns = [col for col in df.columns if 'tokens' in col] # tokens 관련 피처\n",
    "transactions_columns = [col for col in df.columns if 'transactions' in col] # transactions 관련 피처\n",
    "utxo_columns = [col for col in df.columns if 'utxo' in col] # utxo 관련 피처\n",
    "velocity_columns = [col for col in df.columns if 'velocity' in col] # velocity 관련 피처\n",
    "premium_columns = [col for col in df.columns if 'premium' in col] # premium 관련 피처\n",
    "funding_rates_columns = [col for col in df.columns if 'funding_rates' in col] # funding rates 관련 피처\n",
    "long_liquidation_columns = [col for col in df.columns if 'long_liquidation' in col] # 롱 청산 관련 피처\n",
    "short_liquidation_columns = [col for col in df.columns if 'short_liquidation' in col] # 숏 청산 관련 피처\n",
    "open_interest_columns = [col for col in df.columns if 'open_interest' in col] # open-interest 관련 피처\n",
    "taker_columns = [col for col in df.columns if 'taker' in col] # taker 관련 피처\n",
    "\n",
    "# 피처 엔지니어링\n",
    "baseline_extra_columns = ['liquidation_diff', 'liquidation_usd_diff', 'volume_diff', 'liquidation_diffg', 'liquidation_usd_diffg', 'volume_diffg', 'buy_sell_volume_ratio'] # 게시글에 있는 베이스라인 코드의 피처\n",
    "date_columns = ['ID', 'year', 'month', 'week', 'day_of_week', 'hour']\n",
    "open_interest_diff_columns = [col for col in df.columns if '_diff' in col]\n",
    "open_interest_pct_columns =[col for col in df.columns if '_pct_change' in col]\n",
    "domain_related_columns = ['long_short_ratio', 'liquidation_to_volume_ratio', 'liquidation_usd_ratio', 'funding_rate_position_change', 'premium_diff', 'hashrate_to_difficulty', 'supply_change_rate']\n",
    "rolling_columns = [col for col in df.columns if 'rolling' in col] # rolling 관련 피처\n",
    "wt_columns = [col for col in df.columns if 'WT' in col] # WT 관련 피처\n",
    "ema_columns = [col for col in df.columns if col.endswith('_moving_avg_7')] # WT 관련 피처\n",
    "shift_7_columns = [series.name for series in shift_list] # shift list 피처 \n",
    "\n",
    "# category, continuous 열을 따로 할당해둠\n",
    "category_cols: List[str] = [\"liquidation_diffg\", \"liquidation_usd_diffg\", \"volume_diffg\"]\n",
    "conti_cols: List[str] = [col for col in df.columns if col not in category_cols + date_columns + rolling_columns + ['target','_type']] # category_cols, date_columns, rolling_columns 에 있는 것들을 제외"
   ]
  },
  {
   "cell_type": "markdown",
   "metadata": {},
   "source": [
    "#### lightGBM 학습"
   ]
  },
  {
   "cell_type": "code",
   "execution_count": 18,
   "metadata": {},
   "outputs": [
    {
     "data": {
      "text/plain": [
       "(8760, 2794)"
      ]
     },
     "execution_count": 18,
     "metadata": {},
     "output_type": "execute_result"
    }
   ],
   "source": [
    "train_df.shape"
   ]
  },
  {
   "cell_type": "code",
   "execution_count": 19,
   "metadata": {},
   "outputs": [
    {
     "name": "stderr",
     "output_type": "stream",
     "text": [
      "/opt/conda/lib/python3.10/site-packages/lightgbm/engine.py:172: UserWarning: Found `n_estimators` in params. Will use it instead of argument\n",
      "  _log_warning(f\"Found `{alias}` in params. Will use it instead of argument\")\n"
     ]
    },
    {
     "name": "stdout",
     "output_type": "stream",
     "text": [
      "acc: 0.4280821917808219, auroc: 0.6503833395946351\n",
      "\n",
      "lgb_model 모델 평가\n",
      "\n",
      "분류 보고서:\n",
      "              precision    recall  f1-score   support\n",
      "\n",
      "     Class 0       0.05      0.01      0.01       149\n",
      "     Class 1       0.42      0.52      0.46       678\n",
      "     Class 2       0.45      0.52      0.48       745\n",
      "     Class 3       0.41      0.04      0.07       180\n",
      "\n",
      "    accuracy                           0.43      1752\n",
      "   macro avg       0.33      0.27      0.26      1752\n",
      "weighted avg       0.40      0.43      0.39      1752\n",
      "\n",
      "혼동 행렬:\n"
     ]
    },
    {
     "data": {
      "image/png": "[encoded data removed]",
      "text/plain": [
       "<Figure size 640x480 with 2 Axes>"
      ]
     },
     "metadata": {},
     "output_type": "display_data"
    }
   ],
   "source": [
    "# train_test_split 으로 valid set, train set 분리\n",
    "x_train, x_valid, y_train, y_valid = train_test_split(\n",
    "    train_df.drop([\"target\", \"ID\"], axis = 1), \n",
    "    train_df[\"target\"].astype(int), \n",
    "    test_size=0.2,\n",
    "    random_state=42,\n",
    ")\n",
    "\n",
    "# lgb dataset\n",
    "train_data = lgb.Dataset(x_train, label=y_train)\n",
    "valid_data = lgb.Dataset(x_valid, label=y_valid, reference=train_data)\n",
    "\n",
    "# lgb params (베이스라인 코드의 기본 파라미터임)\n",
    "params = {\n",
    "    \"boosting_type\": \"gbdt\",\n",
    "    \"objective\": \"multiclass\",\n",
    "    \"metric\": \"multi_logloss\",\n",
    "    \"num_class\": 4,\n",
    "    \"num_leaves\": 50,\n",
    "    \"learning_rate\": 0.05,\n",
    "    \"n_estimators\": 30,\n",
    "    \"random_state\": 42,\n",
    "    \"verbose\": 0,\n",
    "}\n",
    "\n",
    "# lgb train\n",
    "lgb_model = lgb.train(\n",
    "    params=params,\n",
    "    train_set=train_data,\n",
    "    valid_sets=valid_data,\n",
    ")\n",
    "\n",
    "# lgb predict\n",
    "y_valid_pred = lgb_model.predict(x_valid)\n",
    "y_valid_pred_class = np.argmax(y_valid_pred, axis = 1)\n",
    "\n",
    "# score check\n",
    "accuracy = accuracy_score(y_valid, y_valid_pred_class)\n",
    "auroc = roc_auc_score(y_valid, y_valid_pred, multi_class=\"ovr\")\n",
    "\n",
    "print(f\"acc: {accuracy}, auroc: {auroc}\")\n",
    "\n",
    "# 추가된 confusion matrix 구현 부분\n",
    "evaluate_model(y_valid, y_valid_pred_class, \"lgb_model\")"
   ]
  },
  {
   "cell_type": "markdown",
   "metadata": {},
   "source": [
    "# 영찬이 앙상블 부분"
   ]
  },
  {
   "cell_type": "markdown",
   "metadata": {},
   "source": [
    "### LGBM based Bagging 학습"
   ]
  },
  {
   "cell_type": "code",
   "execution_count": 20,
   "metadata": {},
   "outputs": [],
   "source": [
    "# from sklearn.ensemble import BaggingClassifier\n",
    "# from lightgbm import LGBMClassifier\n",
    "\n",
    "# # LightGBM을 기반으로 하는 Bagging Classifier\n",
    "# bagging_model = BaggingClassifier(\n",
    "#     base_estimator=LGBMClassifier(**params),\n",
    "#     n_estimators=10,  # Bagging에서 사용할 모델 수\n",
    "#     random_state=42\n",
    "# )\n",
    "\n",
    "# # 학습\n",
    "# bagging_model.fit(x_train, y_train)\n",
    "\n",
    "# # 예측\n",
    "# y_valid_pred = bagging_model.predict(x_valid)\n",
    "\n",
    "# # 평가\n",
    "# accuracy = accuracy_score(y_valid, y_valid_pred)\n",
    "# auroc = roc_auc_score(y_valid, bagging_model.predict_proba(x_valid), multi_class=\"ovr\")\n",
    "\n",
    "# print(f\"Bagging - acc: {accuracy}, auroc: {auroc}\")"
   ]
  },
  {
   "cell_type": "code",
   "execution_count": 21,
   "metadata": {},
   "outputs": [],
   "source": [
    "# from lightgbm import LGBMClassifier\n",
    "\n",
    "# # train_test_split 으로 valid set, train set 분리\n",
    "# x_train, x_valid, y_train, y_valid = train_test_split(\n",
    "#     train_df.drop([\"target\", \"ID\"], axis = 1), \n",
    "#     train_df[\"target\"].astype(int), \n",
    "#     test_size=0.2,\n",
    "#     random_state=42,\n",
    "# )\n",
    "\n",
    "# # LightGBM 모델 생성 및 학습\n",
    "# lgb_model = LGBMClassifier(\n",
    "#     boosting_type=\"gbdt\",\n",
    "#     objective=\"multiclass\",\n",
    "#     num_class=4,\n",
    "#     num_leaves=50,\n",
    "#     learning_rate=0.05,\n",
    "#     n_estimators=30,\n",
    "#     random_state=42,\n",
    "#     verbose=-1\n",
    "# )\n",
    "\n",
    "# lgb_model.fit(\n",
    "#     x_train, \n",
    "#     y_train,\n",
    "#     eval_set=[(x_valid, y_valid)],\n",
    "#     eval_metric='multi_logloss'\n",
    "# )\n"
   ]
  },
  {
   "cell_type": "markdown",
   "metadata": {},
   "source": [
    "#### XGBoost 학습"
   ]
  },
  {
   "cell_type": "code",
   "execution_count": 22,
   "metadata": {},
   "outputs": [],
   "source": [
    "# import xgboost as xgb\n",
    "# from sklearn.ensemble import VotingClassifier\n",
    "\n",
    "# # train_test_split 으로 valid set, train set 분리\n",
    "# x_train, x_valid, y_train, y_valid = train_test_split(\n",
    "#     train_df.drop([\"target\", \"ID\"], axis = 1), \n",
    "#     train_df[\"target\"].astype(int), \n",
    "#     test_size=0.2,\n",
    "#     random_state=42,\n",
    "# )\n",
    "\n",
    "# xgb_params = {\n",
    "#     'objective': 'multi:softprob',\n",
    "#     'num_class': 4,\n",
    "#     'learning_rate': 0.05,\n",
    "#     'max_depth': 6,\n",
    "#     'n_estimators': 100,\n",
    "#     'random_state': 42\n",
    "# }\n",
    "\n",
    "# # XGBoost 모델 학습 및 성능 체크\n",
    "# xgb_model = xgb.XGBClassifier(**xgb_params)\n",
    "# xgb_model.fit(x_train, y_train)\n"
   ]
  },
  {
   "cell_type": "markdown",
   "metadata": {},
   "source": [
    "#### Ensenble"
   ]
  },
  {
   "cell_type": "code",
   "execution_count": 23,
   "metadata": {},
   "outputs": [],
   "source": [
    "# from sklearn.ensemble import RandomForestClassifier, VotingClassifier, BaggingClassifier\n",
    "# from sklearn.model_selection import cross_val_score\n",
    "# from sklearn.linear_model import LogisticRegression\n",
    "# from sklearn.model_selection import KFold\n",
    "# from sklearn.base import BaseEstimator, ClassifierMixin, clone\n",
    "# from sklearn.utils.validation import check_X_y, check_array, check_is_fitted\n",
    "# from sklearn.utils.multiclass import unique_labels\n",
    "\n",
    "# rf_model = RandomForestClassifier(n_estimators=100, random_state=42)\n",
    "\n",
    "# # 데이터 준비\n",
    "# X = train_df.drop([\"target\", \"ID\"], axis=1)\n",
    "# y = train_df[\"target\"].astype(int)\n",
    "\n",
    "# # 교차 검증을 위한 KFold 정의\n",
    "# kf = KFold(n_splits=5, shuffle=True, random_state=42)\n",
    "\n",
    "# # 1. Voting 앙상블\n",
    "# voting_hard = VotingClassifier(\n",
    "#     estimators=[('lgb', lgb_model), ('xgb', xgb_model), ('rf', rf_model)],\n",
    "#     voting='hard'\n",
    "# )\n",
    "\n",
    "# voting_soft = VotingClassifier(\n",
    "#     estimators=[('lgb', lgb_model), ('xgb', xgb_model), ('rf', rf_model)],\n",
    "#     voting='soft'\n",
    "# )\n",
    "\n",
    "# # 2. Bagging 앙상블\n",
    "# bagging = BaggingClassifier(base_estimator=lgb_model, n_estimators=10, random_state=42)\n",
    "\n",
    "# # 3. Stacking 앙상블\n",
    "\n",
    "# class StackingEnsemble(BaseEstimator, ClassifierMixin):\n",
    "#     def __init__(self, base_models, meta_model, n_folds=5):\n",
    "#         self.base_models = base_models\n",
    "#         self.meta_model = meta_model\n",
    "#         self.n_folds = n_folds\n",
    "\n",
    "#     def fit(self, X, y):\n",
    "#         # Check that X and y have correct shape\n",
    "#         X, y = check_X_y(X, y)\n",
    "#         # Store the classes seen during fit\n",
    "#         self.classes_ = unique_labels(y)\n",
    "\n",
    "#         self.base_models_ = [list() for _ in self.base_models]\n",
    "#         self.meta_model_ = clone(self.meta_model)\n",
    "#         kfold = KFold(n_splits=self.n_folds, shuffle=True, random_state=42)\n",
    "        \n",
    "#         out_of_fold_predictions = np.zeros((X.shape[0], len(self.base_models)))\n",
    "        \n",
    "#         for i, model in enumerate(self.base_models):\n",
    "#             for train_index, holdout_index in kfold.split(X, y):\n",
    "#                 instance = clone(model)\n",
    "#                 self.base_models_[i].append(instance)\n",
    "#                 instance.fit(X[train_index], y[train_index])\n",
    "#                 y_pred = instance.predict_proba(X[holdout_index])\n",
    "#                 out_of_fold_predictions[holdout_index, i] = y_pred[:, 1]\n",
    "        \n",
    "#         self.meta_model_.fit(out_of_fold_predictions, y)\n",
    "#         return self\n",
    "\n",
    "#     def predict(self, X):\n",
    "#         # Check is fit had been called\n",
    "#         check_is_fitted(self)\n",
    "#         # Input validation\n",
    "#         X = check_array(X)\n",
    "#         meta_features = np.column_stack([\n",
    "#             np.column_stack([model.predict_proba(X)[:, 1] for model in base_models]).mean(axis=1)\n",
    "#             for base_models in self.base_models_ ])\n",
    "#         return self.meta_model_.predict(meta_features)\n",
    "\n",
    "#     def predict_proba(self, X):\n",
    "#         # Check is fit had been called\n",
    "#         check_is_fitted(self)\n",
    "#         # Input validation\n",
    "#         X = check_array(X)\n",
    "#         meta_features = np.column_stack([\n",
    "#             np.column_stack([model.predict_proba(X)[:, 1] for model in base_models]).mean(axis=1)\n",
    "#             for base_models in self.base_models_ ])\n",
    "#         return self.meta_model_.predict_proba(meta_features)\n",
    "\n",
    "# stacking = StackingEnsemble(\n",
    "#     base_models=(lgb_model, xgb_model, rf_model),\n",
    "#     meta_model=LogisticRegression()\n",
    "# )\n",
    "\n",
    "# from sklearn.model_selection import cross_val_predict\n",
    "\n",
    "# accuracy_scores = cross_val_score(stacking, X, y, cv=kf, scoring='accuracy', error_score='raise')\n",
    "# # AUROC 계산\n",
    "# if hasattr(stacking, \"predict_proba\"):\n",
    "#     y_pred_proba = cross_val_predict(stacking, X, y, cv=kf, method='predict_proba')\n",
    "#     auroc_score = roc_auc_score(y, y_pred_proba, multi_class='ovr')\n",
    "# else:\n",
    "#     auroc_score = None\n",
    "\n",
    "# print(\"Stacking\")\n",
    "# print(f\"  - 평균 정확도: {accuracy_scores.mean()} (+/- {accuracy_scores.std() * 2})\")\n",
    "# if auroc_score:\n",
    "#     print(f\"  - AUROC: {auroc_score}\")\n",
    "# else:\n",
    "#     print(\"  - AUROC: Not available\")\n",
    "# print()\n",
    "\n"
   ]
  },
  {
   "cell_type": "code",
   "execution_count": 24,
   "metadata": {},
   "outputs": [],
   "source": [
    "# from sklearn.metrics import roc_auc_score\n",
    "# from sklearn.model_selection import cross_val_predict\n",
    "\n",
    "# # 모델 리스트 (VotingHard 제외)\n",
    "# models = [lgb_model, xgb_model, rf_model, voting_soft, bagging]\n",
    "# model_names = ['LightGBM', 'XGBoost', 'RandomForest', 'VotingSoft', 'Bagging']\n",
    "\n",
    "# # 각 모델의 교차 검증 수행\n",
    "# for name, model in zip(model_names, models):\n",
    "#     # 정확도 계산\n",
    "#     accuracy_scores = cross_val_score(model, X, y, cv=kf, scoring='accuracy')\n",
    "    \n",
    "#     # AUROC 계산\n",
    "#     if hasattr(model, \"predict_proba\"):\n",
    "#         y_pred_proba = cross_val_predict(model, X, y, cv=kf, method='predict_proba')\n",
    "#         auroc_score = roc_auc_score(y, y_pred_proba, multi_class='ovr')\n",
    "#     else:\n",
    "#         auroc_score = None\n",
    "    \n",
    "#     print(f\"{name}:\")\n",
    "#     print(f\"  - 평균 정확도: {accuracy_scores.mean()} (+/- {accuracy_scores.std() * 2})\")\n",
    "#     if auroc_score:\n",
    "#         print(f\"  - AUROC: {auroc_score}\")\n",
    "#     else:\n",
    "#         print(\"  - AUROC: Not available\")\n",
    "#     print()\n"
   ]
  },
  {
   "cell_type": "code",
   "execution_count": 25,
   "metadata": {},
   "outputs": [],
   "source": [
    "\n",
    "# # 최종 모델 선택 및 전체 데이터로 학습 (AUROC 기준)\n",
    "# best_model = models[np.argmax([\n",
    "#     roc_auc_score(y, cross_val_predict(model, X, y, cv=kf, method='predict_proba'), multi_class='ovr')\n",
    "#     if hasattr(model, \"predict_proba\") else 0 \n",
    "#     for model in models\n",
    "# ])]\n",
    "\n",
    "# best_model.fit(X, y)\n",
    "\n",
    "# # 테스트 데이터에 대한 예측\n",
    "# X_test = test_df.drop([\"target\", \"ID\"], axis=1)\n",
    "# y_test_pred = best_model.predict(X_test)\n",
    "# if hasattr(best_model, \"predict_proba\"):\n",
    "#     y_test_pred_proba = best_model.predict_proba(X_test)\n",
    "\n",
    "# # 제출 파일 생성\n",
    "# submission = submission.assign(target=y_test_pred)\n",
    "# submission.to_csv(\"output_best_ensemble.csv\", index=False)\n",
    "\n",
    "# print(f\"Best model: {type(best_model).__name__}\")"
   ]
  },
  {
   "cell_type": "markdown",
   "metadata": {},
   "source": [
    "### Inference"
   ]
  },
  {
   "cell_type": "markdown",
   "metadata": {},
   "source": [
    "앙상블의 inference & save 과정."
   ]
  },
  {
   "cell_type": "code",
   "execution_count": 26,
   "metadata": {},
   "outputs": [],
   "source": [
    "# # performance 체크후 전체 학습 데이터로 다시 재학습 - LGBM Bagging(알아서 주석 빼고 실행)\n",
    "\n",
    "# x_train = train_df.drop([\"target\", \"ID\"], axis = 1)\n",
    "# y_train = train_df[\"target\"].astype(int)\n",
    "# train_data = lgb.Dataset(x_train, label=y_train)\n",
    "# bagging_model.fit(x_train, y_train)\n",
    "\n",
    "# y_test_pred = bagging_model.predict(test_df.drop([\"target\", \"ID\"], axis = 1))\n",
    "\n",
    "\n",
    "# submission = submission.assign(target = y_test_pred_class)\n",
    "# submission.to_csv(\"0925_median_output.csv\", index=False)"
   ]
  }
 ],
 "metadata": {
  "kernelspec": {
   "display_name": "Python 3.8.16 ('datawrg')",
   "language": "python",
   "name": "python3"
  },
  "language_info": {
   "codemirror_mode": {
    "name": "ipython",
    "version": 3
   },
   "file_extension": ".py",
   "mimetype": "text/x-python",
   "name": "python",
   "nbconvert_exporter": "python",
   "pygments_lexer": "ipython3",
   "version": "3.8.16"
  },
  "vscode": {
   "interpreter": {
    "hash": "ab2bf47c83e23e79da7154310486cd6f2111092cec5daef28d72dd2b3b6f44d2"
   }
  }
 },
 "nbformat": 4,
 "nbformat_minor": 2
}
